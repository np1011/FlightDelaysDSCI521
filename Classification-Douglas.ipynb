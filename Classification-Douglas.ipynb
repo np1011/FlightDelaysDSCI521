{
 "cells": [
  {
   "cell_type": "markdown",
   "id": "loTopIBZluND",
   "metadata": {
    "id": "loTopIBZluND"
   },
   "source": [
    "# Classification\n",
    "\n",
    "Setting up environment for modeling. Explore the data to understand feature correlations, determine which features to include and running different models to find the best fit. \n",
    "\n",
    "Models Attempted:\n",
    "\n",
    "- [**Logistic Regression**](https://scikit-learn.org/stable/modules/generated/sklearn.linear_model.LogisticRegression.html)\n",
    "\n",
    "- [**Decision Trees**](https://scikit-learn.org/stable/modules/tree.html)\n",
    "\n",
    "- [**Gradient Boosting**](https://scikit-learn.org/stable/modules/generated/sklearn.ensemble.GradientBoostingClassifier.html)\n",
    "\n",
    "- [**Random Forest**](https://scikit-learn.org/stable/modules/generated/sklearn.ensemble.RandomForestClassifier.html)\n",
    "\n",
    "- [**Extra Trees**](https://scikit-learn.org/stable/modules/generated/sklearn.ensemble.ExtraTreesClassifier.html)"
   ]
  },
  {
   "cell_type": "markdown",
   "id": "4XEYeSIysG7M",
   "metadata": {
    "id": "4XEYeSIysG7M"
   },
   "source": [
    "# **Load Adjusted Dataset**\n",
    "\n",
    "The original dataset on Kaggle removed a large amount of weather data during the final data cleaning steps. In order to improve our weather based predictions we re-ran the data collection process and re-included removed data points."
   ]
  },
  {
   "cell_type": "markdown",
   "id": "MaIXVyRlsq8J",
   "metadata": {
    "id": "MaIXVyRlsq8J"
   },
   "source": [
    "### Preview of available data\n",
    "\n",
    "Combining the test and train files here because they are split later in the code for this method. They were pre-split in the Kaggle file the data was taken from."
   ]
  },
  {
   "cell_type": "code",
   "execution_count": 3,
   "id": "eb7c6230-dae3-4cf9-936c-edce2cad35c6",
   "metadata": {
    "colab": {
     "base_uri": "https://localhost:8080/",
     "height": 389
    },
    "id": "eb7c6230-dae3-4cf9-936c-edce2cad35c6",
    "outputId": "5b77ac58-9e12-498e-db7a-d47715ba86f7",
    "tags": []
   },
   "outputs": [
    {
     "data": {
      "text/html": [
       "<div>\n",
       "<style scoped>\n",
       "    .dataframe tbody tr th:only-of-type {\n",
       "        vertical-align: middle;\n",
       "    }\n",
       "\n",
       "    .dataframe tbody tr th {\n",
       "        vertical-align: top;\n",
       "    }\n",
       "\n",
       "    .dataframe thead th {\n",
       "        text-align: right;\n",
       "    }\n",
       "</style>\n",
       "<table border=\"1\" class=\"dataframe\">\n",
       "  <thead>\n",
       "    <tr style=\"text-align: right;\">\n",
       "      <th></th>\n",
       "      <th>MONTH</th>\n",
       "      <th>DAY_OF_WEEK</th>\n",
       "      <th>DEP_DEL15</th>\n",
       "      <th>DEP_TIME_BLK</th>\n",
       "      <th>DISTANCE_GROUP</th>\n",
       "      <th>SEGMENT_NUMBER</th>\n",
       "      <th>CONCURRENT_FLIGHTS</th>\n",
       "      <th>NUMBER_OF_SEATS</th>\n",
       "      <th>CARRIER_NAME</th>\n",
       "      <th>AIRPORT_FLIGHTS_MONTH</th>\n",
       "      <th>...</th>\n",
       "      <th>WT05</th>\n",
       "      <th>WT07</th>\n",
       "      <th>WT08</th>\n",
       "      <th>WT09</th>\n",
       "      <th>WT10</th>\n",
       "      <th>WT11</th>\n",
       "      <th>CARRIER_HISTORICAL</th>\n",
       "      <th>DEP_AIRPORT_HIST</th>\n",
       "      <th>DAY_HISTORICAL</th>\n",
       "      <th>DEP_BLOCK_HIST</th>\n",
       "    </tr>\n",
       "  </thead>\n",
       "  <tbody>\n",
       "    <tr>\n",
       "      <th>0</th>\n",
       "      <td>4</td>\n",
       "      <td>6</td>\n",
       "      <td>0</td>\n",
       "      <td>1000-1059</td>\n",
       "      <td>3</td>\n",
       "      <td>3</td>\n",
       "      <td>5</td>\n",
       "      <td>110</td>\n",
       "      <td>Delta Air Lines Inc.</td>\n",
       "      <td>6837</td>\n",
       "      <td>...</td>\n",
       "      <td>0.0</td>\n",
       "      <td>0.0</td>\n",
       "      <td>0.0</td>\n",
       "      <td>0.0</td>\n",
       "      <td>0.0</td>\n",
       "      <td>0.0</td>\n",
       "      <td>0.139558</td>\n",
       "      <td>0.180307</td>\n",
       "      <td>0.177124</td>\n",
       "      <td>0.147773</td>\n",
       "    </tr>\n",
       "    <tr>\n",
       "      <th>1</th>\n",
       "      <td>3</td>\n",
       "      <td>2</td>\n",
       "      <td>0</td>\n",
       "      <td>1000-1059</td>\n",
       "      <td>2</td>\n",
       "      <td>2</td>\n",
       "      <td>31</td>\n",
       "      <td>50</td>\n",
       "      <td>Endeavor Air Inc.</td>\n",
       "      <td>14450</td>\n",
       "      <td>...</td>\n",
       "      <td>0.0</td>\n",
       "      <td>0.0</td>\n",
       "      <td>0.0</td>\n",
       "      <td>0.0</td>\n",
       "      <td>0.0</td>\n",
       "      <td>0.0</td>\n",
       "      <td>0.155571</td>\n",
       "      <td>0.187883</td>\n",
       "      <td>0.132868</td>\n",
       "      <td>0.156045</td>\n",
       "    </tr>\n",
       "    <tr>\n",
       "      <th>2</th>\n",
       "      <td>2</td>\n",
       "      <td>5</td>\n",
       "      <td>0</td>\n",
       "      <td>1000-1059</td>\n",
       "      <td>8</td>\n",
       "      <td>2</td>\n",
       "      <td>37</td>\n",
       "      <td>173</td>\n",
       "      <td>United Air Lines Inc.</td>\n",
       "      <td>16530</td>\n",
       "      <td>...</td>\n",
       "      <td>0.0</td>\n",
       "      <td>0.0</td>\n",
       "      <td>0.0</td>\n",
       "      <td>0.0</td>\n",
       "      <td>0.0</td>\n",
       "      <td>0.0</td>\n",
       "      <td>0.189496</td>\n",
       "      <td>0.240316</td>\n",
       "      <td>0.236965</td>\n",
       "      <td>0.187484</td>\n",
       "    </tr>\n",
       "    <tr>\n",
       "      <th>3</th>\n",
       "      <td>4</td>\n",
       "      <td>6</td>\n",
       "      <td>0</td>\n",
       "      <td>0900-0959</td>\n",
       "      <td>11</td>\n",
       "      <td>2</td>\n",
       "      <td>37</td>\n",
       "      <td>181</td>\n",
       "      <td>Alaska Airlines Inc.</td>\n",
       "      <td>17522</td>\n",
       "      <td>...</td>\n",
       "      <td>0.0</td>\n",
       "      <td>0.0</td>\n",
       "      <td>0.0</td>\n",
       "      <td>0.0</td>\n",
       "      <td>0.0</td>\n",
       "      <td>0.0</td>\n",
       "      <td>0.132326</td>\n",
       "      <td>0.112840</td>\n",
       "      <td>0.177124</td>\n",
       "      <td>0.135374</td>\n",
       "    </tr>\n",
       "    <tr>\n",
       "      <th>4</th>\n",
       "      <td>8</td>\n",
       "      <td>7</td>\n",
       "      <td>0</td>\n",
       "      <td>0900-0959</td>\n",
       "      <td>1</td>\n",
       "      <td>2</td>\n",
       "      <td>27</td>\n",
       "      <td>143</td>\n",
       "      <td>Southwest Airlines Co.</td>\n",
       "      <td>14220</td>\n",
       "      <td>...</td>\n",
       "      <td>0.0</td>\n",
       "      <td>0.0</td>\n",
       "      <td>0.0</td>\n",
       "      <td>0.0</td>\n",
       "      <td>0.0</td>\n",
       "      <td>0.0</td>\n",
       "      <td>0.192550</td>\n",
       "      <td>0.123487</td>\n",
       "      <td>0.196519</td>\n",
       "      <td>0.138067</td>\n",
       "    </tr>\n",
       "    <tr>\n",
       "      <th>...</th>\n",
       "      <td>...</td>\n",
       "      <td>...</td>\n",
       "      <td>...</td>\n",
       "      <td>...</td>\n",
       "      <td>...</td>\n",
       "      <td>...</td>\n",
       "      <td>...</td>\n",
       "      <td>...</td>\n",
       "      <td>...</td>\n",
       "      <td>...</td>\n",
       "      <td>...</td>\n",
       "      <td>...</td>\n",
       "      <td>...</td>\n",
       "      <td>...</td>\n",
       "      <td>...</td>\n",
       "      <td>...</td>\n",
       "      <td>...</td>\n",
       "      <td>...</td>\n",
       "      <td>...</td>\n",
       "      <td>...</td>\n",
       "      <td>...</td>\n",
       "    </tr>\n",
       "    <tr>\n",
       "      <th>6489057</th>\n",
       "      <td>6</td>\n",
       "      <td>4</td>\n",
       "      <td>0</td>\n",
       "      <td>1500-1559</td>\n",
       "      <td>2</td>\n",
       "      <td>5</td>\n",
       "      <td>4</td>\n",
       "      <td>70</td>\n",
       "      <td>Comair Inc.</td>\n",
       "      <td>1190</td>\n",
       "      <td>...</td>\n",
       "      <td>0.0</td>\n",
       "      <td>0.0</td>\n",
       "      <td>0.0</td>\n",
       "      <td>0.0</td>\n",
       "      <td>0.0</td>\n",
       "      <td>0.0</td>\n",
       "      <td>0.217198</td>\n",
       "      <td>0.222554</td>\n",
       "      <td>0.251477</td>\n",
       "      <td>0.292230</td>\n",
       "    </tr>\n",
       "    <tr>\n",
       "      <th>6489058</th>\n",
       "      <td>4</td>\n",
       "      <td>4</td>\n",
       "      <td>1</td>\n",
       "      <td>2100-2159</td>\n",
       "      <td>2</td>\n",
       "      <td>9</td>\n",
       "      <td>12</td>\n",
       "      <td>143</td>\n",
       "      <td>Southwest Airlines Co.</td>\n",
       "      <td>5669</td>\n",
       "      <td>...</td>\n",
       "      <td>0.0</td>\n",
       "      <td>0.0</td>\n",
       "      <td>0.0</td>\n",
       "      <td>0.0</td>\n",
       "      <td>0.0</td>\n",
       "      <td>0.0</td>\n",
       "      <td>0.215726</td>\n",
       "      <td>0.192585</td>\n",
       "      <td>0.171317</td>\n",
       "      <td>0.263840</td>\n",
       "    </tr>\n",
       "    <tr>\n",
       "      <th>6489059</th>\n",
       "      <td>4</td>\n",
       "      <td>7</td>\n",
       "      <td>1</td>\n",
       "      <td>1900-1959</td>\n",
       "      <td>6</td>\n",
       "      <td>5</td>\n",
       "      <td>21</td>\n",
       "      <td>175</td>\n",
       "      <td>Southwest Airlines Co.</td>\n",
       "      <td>14827</td>\n",
       "      <td>...</td>\n",
       "      <td>0.0</td>\n",
       "      <td>0.0</td>\n",
       "      <td>0.0</td>\n",
       "      <td>0.0</td>\n",
       "      <td>0.0</td>\n",
       "      <td>0.0</td>\n",
       "      <td>0.215726</td>\n",
       "      <td>0.112840</td>\n",
       "      <td>0.203724</td>\n",
       "      <td>0.266095</td>\n",
       "    </tr>\n",
       "    <tr>\n",
       "      <th>6489060</th>\n",
       "      <td>12</td>\n",
       "      <td>7</td>\n",
       "      <td>0</td>\n",
       "      <td>2000-2059</td>\n",
       "      <td>3</td>\n",
       "      <td>6</td>\n",
       "      <td>69</td>\n",
       "      <td>110</td>\n",
       "      <td>Delta Air Lines Inc.</td>\n",
       "      <td>13603</td>\n",
       "      <td>...</td>\n",
       "      <td>0.0</td>\n",
       "      <td>0.0</td>\n",
       "      <td>0.0</td>\n",
       "      <td>0.0</td>\n",
       "      <td>0.0</td>\n",
       "      <td>0.0</td>\n",
       "      <td>0.157390</td>\n",
       "      <td>0.186040</td>\n",
       "      <td>0.226980</td>\n",
       "      <td>0.286800</td>\n",
       "    </tr>\n",
       "    <tr>\n",
       "      <th>6489061</th>\n",
       "      <td>4</td>\n",
       "      <td>4</td>\n",
       "      <td>0</td>\n",
       "      <td>1000-1059</td>\n",
       "      <td>2</td>\n",
       "      <td>3</td>\n",
       "      <td>3</td>\n",
       "      <td>50</td>\n",
       "      <td>Comair Inc.</td>\n",
       "      <td>1340</td>\n",
       "      <td>...</td>\n",
       "      <td>0.0</td>\n",
       "      <td>0.0</td>\n",
       "      <td>0.0</td>\n",
       "      <td>0.0</td>\n",
       "      <td>0.0</td>\n",
       "      <td>0.0</td>\n",
       "      <td>0.225378</td>\n",
       "      <td>0.177985</td>\n",
       "      <td>0.171317</td>\n",
       "      <td>0.147773</td>\n",
       "    </tr>\n",
       "  </tbody>\n",
       "</table>\n",
       "<p>6489062 rows × 41 columns</p>\n",
       "</div>"
      ],
      "text/plain": [
       "         MONTH  DAY_OF_WEEK  DEP_DEL15 DEP_TIME_BLK  DISTANCE_GROUP  \\\n",
       "0            4            6          0    1000-1059               3   \n",
       "1            3            2          0    1000-1059               2   \n",
       "2            2            5          0    1000-1059               8   \n",
       "3            4            6          0    0900-0959              11   \n",
       "4            8            7          0    0900-0959               1   \n",
       "...        ...          ...        ...          ...             ...   \n",
       "6489057      6            4          0    1500-1559               2   \n",
       "6489058      4            4          1    2100-2159               2   \n",
       "6489059      4            7          1    1900-1959               6   \n",
       "6489060     12            7          0    2000-2059               3   \n",
       "6489061      4            4          0    1000-1059               2   \n",
       "\n",
       "         SEGMENT_NUMBER  CONCURRENT_FLIGHTS  NUMBER_OF_SEATS  \\\n",
       "0                     3                   5              110   \n",
       "1                     2                  31               50   \n",
       "2                     2                  37              173   \n",
       "3                     2                  37              181   \n",
       "4                     2                  27              143   \n",
       "...                 ...                 ...              ...   \n",
       "6489057               5                   4               70   \n",
       "6489058               9                  12              143   \n",
       "6489059               5                  21              175   \n",
       "6489060               6                  69              110   \n",
       "6489061               3                   3               50   \n",
       "\n",
       "                   CARRIER_NAME  AIRPORT_FLIGHTS_MONTH  ...  WT05  WT07  WT08  \\\n",
       "0          Delta Air Lines Inc.                   6837  ...   0.0   0.0   0.0   \n",
       "1             Endeavor Air Inc.                  14450  ...   0.0   0.0   0.0   \n",
       "2         United Air Lines Inc.                  16530  ...   0.0   0.0   0.0   \n",
       "3          Alaska Airlines Inc.                  17522  ...   0.0   0.0   0.0   \n",
       "4        Southwest Airlines Co.                  14220  ...   0.0   0.0   0.0   \n",
       "...                         ...                    ...  ...   ...   ...   ...   \n",
       "6489057             Comair Inc.                   1190  ...   0.0   0.0   0.0   \n",
       "6489058  Southwest Airlines Co.                   5669  ...   0.0   0.0   0.0   \n",
       "6489059  Southwest Airlines Co.                  14827  ...   0.0   0.0   0.0   \n",
       "6489060    Delta Air Lines Inc.                  13603  ...   0.0   0.0   0.0   \n",
       "6489061             Comair Inc.                   1340  ...   0.0   0.0   0.0   \n",
       "\n",
       "         WT09  WT10  WT11  CARRIER_HISTORICAL DEP_AIRPORT_HIST  \\\n",
       "0         0.0   0.0   0.0            0.139558         0.180307   \n",
       "1         0.0   0.0   0.0            0.155571         0.187883   \n",
       "2         0.0   0.0   0.0            0.189496         0.240316   \n",
       "3         0.0   0.0   0.0            0.132326         0.112840   \n",
       "4         0.0   0.0   0.0            0.192550         0.123487   \n",
       "...       ...   ...   ...                 ...              ...   \n",
       "6489057   0.0   0.0   0.0            0.217198         0.222554   \n",
       "6489058   0.0   0.0   0.0            0.215726         0.192585   \n",
       "6489059   0.0   0.0   0.0            0.215726         0.112840   \n",
       "6489060   0.0   0.0   0.0            0.157390         0.186040   \n",
       "6489061   0.0   0.0   0.0            0.225378         0.177985   \n",
       "\n",
       "         DAY_HISTORICAL  DEP_BLOCK_HIST  \n",
       "0              0.177124        0.147773  \n",
       "1              0.132868        0.156045  \n",
       "2              0.236965        0.187484  \n",
       "3              0.177124        0.135374  \n",
       "4              0.196519        0.138067  \n",
       "...                 ...             ...  \n",
       "6489057        0.251477        0.292230  \n",
       "6489058        0.171317        0.263840  \n",
       "6489059        0.203724        0.266095  \n",
       "6489060        0.226980        0.286800  \n",
       "6489061        0.171317        0.147773  \n",
       "\n",
       "[6489062 rows x 41 columns]"
      ]
     },
     "execution_count": 3,
     "metadata": {},
     "output_type": "execute_result"
    }
   ],
   "source": [
    "import warnings\n",
    "warnings.simplefilter(action='ignore', category=FutureWarning)\n",
    "\n",
    "#import the modules\n",
    "import os\n",
    "import pandas as pd\n",
    "    \n",
    "#read the path\n",
    "file_path = 'data/csv_files'\n",
    "#list all the files from the directory\n",
    "csv_files = os.listdir(file_path)\n",
    "\n",
    "#append all files together\n",
    "flight_data = pd.DataFrame()\n",
    "\n",
    "for file in csv_files:\n",
    "            df_temp = pd.read_csv('data/csv_files/'+file)\n",
    "            flight_data = flight_data.append(df_temp, ignore_index=True)\n",
    "flight_data"
   ]
  },
  {
   "cell_type": "code",
   "execution_count": 4,
   "id": "eff54b89-2ddb-4319-a9d9-940e27b13cfb",
   "metadata": {
    "colab": {
     "base_uri": "https://localhost:8080/",
     "height": 421
    },
    "id": "eff54b89-2ddb-4319-a9d9-940e27b13cfb",
    "outputId": "08966478-c0d8-4fc0-836b-9e2bbbf0a9a9",
    "tags": []
   },
   "outputs": [
    {
     "data": {
      "text/html": [
       "<div>\n",
       "<style scoped>\n",
       "    .dataframe tbody tr th:only-of-type {\n",
       "        vertical-align: middle;\n",
       "    }\n",
       "\n",
       "    .dataframe tbody tr th {\n",
       "        vertical-align: top;\n",
       "    }\n",
       "\n",
       "    .dataframe thead th {\n",
       "        text-align: right;\n",
       "    }\n",
       "</style>\n",
       "<table border=\"1\" class=\"dataframe\">\n",
       "  <thead>\n",
       "    <tr style=\"text-align: right;\">\n",
       "      <th></th>\n",
       "      <th>MONTH</th>\n",
       "      <th>DAY_OF_WEEK</th>\n",
       "      <th>DEP_DEL15</th>\n",
       "      <th>DEP_TIME_BLK</th>\n",
       "      <th>DISTANCE_GROUP</th>\n",
       "      <th>SEGMENT_NUMBER</th>\n",
       "      <th>CONCURRENT_FLIGHTS</th>\n",
       "      <th>NUMBER_OF_SEATS</th>\n",
       "      <th>CARRIER_NAME</th>\n",
       "      <th>AIRPORT_FLIGHTS_MONTH</th>\n",
       "      <th>AIRLINE_FLIGHTS_MONTH</th>\n",
       "      <th>AIRLINE_AIRPORT_FLIGHTS_MONTH</th>\n",
       "      <th>AVG_MONTHLY_PASS_AIRPORT</th>\n",
       "      <th>AVG_MONTHLY_PASS_AIRLINE</th>\n",
       "      <th>FLT_ATTENDANTS_PER_PASS</th>\n",
       "      <th>GROUND_SERV_PER_PASS</th>\n",
       "      <th>PLANE_AGE</th>\n",
       "      <th>DEPARTING_AIRPORT</th>\n",
       "      <th>LATITUDE</th>\n",
       "      <th>LONGITUDE</th>\n",
       "      <th>PREVIOUS_AIRPORT</th>\n",
       "      <th>PRCP</th>\n",
       "      <th>SNOW</th>\n",
       "      <th>SNWD</th>\n",
       "      <th>TMAX</th>\n",
       "      <th>AWND</th>\n",
       "      <th>TAVG</th>\n",
       "      <th>TMIN</th>\n",
       "      <th>WT01</th>\n",
       "      <th>WT02</th>\n",
       "      <th>WT03</th>\n",
       "      <th>WT05</th>\n",
       "      <th>WT07</th>\n",
       "      <th>WT08</th>\n",
       "      <th>WT09</th>\n",
       "      <th>WT10</th>\n",
       "      <th>WT11</th>\n",
       "      <th>CARRIER_HISTORICAL</th>\n",
       "      <th>DEP_AIRPORT_HIST</th>\n",
       "      <th>DAY_HISTORICAL</th>\n",
       "      <th>DEP_BLOCK_HIST</th>\n",
       "    </tr>\n",
       "  </thead>\n",
       "  <tbody>\n",
       "    <tr>\n",
       "      <th>0</th>\n",
       "      <td>4</td>\n",
       "      <td>6</td>\n",
       "      <td>0</td>\n",
       "      <td>1000-1059</td>\n",
       "      <td>3</td>\n",
       "      <td>3</td>\n",
       "      <td>5</td>\n",
       "      <td>110</td>\n",
       "      <td>Delta Air Lines Inc.</td>\n",
       "      <td>6837</td>\n",
       "      <td>81803</td>\n",
       "      <td>180</td>\n",
       "      <td>819756</td>\n",
       "      <td>12460183</td>\n",
       "      <td>0.000144</td>\n",
       "      <td>0.000149</td>\n",
       "      <td>18</td>\n",
       "      <td>Chicago Midway International</td>\n",
       "      <td>41.785</td>\n",
       "      <td>-87.752</td>\n",
       "      <td>Atlanta Municipal</td>\n",
       "      <td>0.0</td>\n",
       "      <td>0.0</td>\n",
       "      <td>0.0</td>\n",
       "      <td>64.0</td>\n",
       "      <td>13.87</td>\n",
       "      <td>49.0</td>\n",
       "      <td>36.0</td>\n",
       "      <td>0.0</td>\n",
       "      <td>0.0</td>\n",
       "      <td>0.0</td>\n",
       "      <td>0.0</td>\n",
       "      <td>0.0</td>\n",
       "      <td>0.0</td>\n",
       "      <td>0.0</td>\n",
       "      <td>0.0</td>\n",
       "      <td>0.0</td>\n",
       "      <td>0.139558</td>\n",
       "      <td>0.180307</td>\n",
       "      <td>0.177124</td>\n",
       "      <td>0.147773</td>\n",
       "    </tr>\n",
       "    <tr>\n",
       "      <th>1</th>\n",
       "      <td>3</td>\n",
       "      <td>2</td>\n",
       "      <td>0</td>\n",
       "      <td>1000-1059</td>\n",
       "      <td>2</td>\n",
       "      <td>2</td>\n",
       "      <td>31</td>\n",
       "      <td>50</td>\n",
       "      <td>Endeavor Air Inc.</td>\n",
       "      <td>14450</td>\n",
       "      <td>22191</td>\n",
       "      <td>1956</td>\n",
       "      <td>1208249</td>\n",
       "      <td>1212846</td>\n",
       "      <td>0.000000</td>\n",
       "      <td>0.000094</td>\n",
       "      <td>15</td>\n",
       "      <td>LaGuardia</td>\n",
       "      <td>40.779</td>\n",
       "      <td>-73.876</td>\n",
       "      <td>Bangor International</td>\n",
       "      <td>0.0</td>\n",
       "      <td>0.0</td>\n",
       "      <td>0.0</td>\n",
       "      <td>48.0</td>\n",
       "      <td>12.08</td>\n",
       "      <td>42.0</td>\n",
       "      <td>33.0</td>\n",
       "      <td>0.0</td>\n",
       "      <td>0.0</td>\n",
       "      <td>0.0</td>\n",
       "      <td>0.0</td>\n",
       "      <td>0.0</td>\n",
       "      <td>0.0</td>\n",
       "      <td>0.0</td>\n",
       "      <td>0.0</td>\n",
       "      <td>0.0</td>\n",
       "      <td>0.155571</td>\n",
       "      <td>0.187883</td>\n",
       "      <td>0.132868</td>\n",
       "      <td>0.156045</td>\n",
       "    </tr>\n",
       "    <tr>\n",
       "      <th>2</th>\n",
       "      <td>2</td>\n",
       "      <td>5</td>\n",
       "      <td>0</td>\n",
       "      <td>1000-1059</td>\n",
       "      <td>8</td>\n",
       "      <td>2</td>\n",
       "      <td>37</td>\n",
       "      <td>173</td>\n",
       "      <td>United Air Lines Inc.</td>\n",
       "      <td>16530</td>\n",
       "      <td>43512</td>\n",
       "      <td>4679</td>\n",
       "      <td>2743323</td>\n",
       "      <td>8501631</td>\n",
       "      <td>0.000254</td>\n",
       "      <td>0.000229</td>\n",
       "      <td>7</td>\n",
       "      <td>Stapleton International</td>\n",
       "      <td>39.774</td>\n",
       "      <td>-104.880</td>\n",
       "      <td>Los Angeles International</td>\n",
       "      <td>0.0</td>\n",
       "      <td>0.0</td>\n",
       "      <td>0.0</td>\n",
       "      <td>54.0</td>\n",
       "      <td>10.07</td>\n",
       "      <td>38.0</td>\n",
       "      <td>28.0</td>\n",
       "      <td>0.0</td>\n",
       "      <td>0.0</td>\n",
       "      <td>0.0</td>\n",
       "      <td>0.0</td>\n",
       "      <td>0.0</td>\n",
       "      <td>0.0</td>\n",
       "      <td>0.0</td>\n",
       "      <td>0.0</td>\n",
       "      <td>0.0</td>\n",
       "      <td>0.189496</td>\n",
       "      <td>0.240316</td>\n",
       "      <td>0.236965</td>\n",
       "      <td>0.187484</td>\n",
       "    </tr>\n",
       "    <tr>\n",
       "      <th>3</th>\n",
       "      <td>4</td>\n",
       "      <td>6</td>\n",
       "      <td>0</td>\n",
       "      <td>0900-0959</td>\n",
       "      <td>11</td>\n",
       "      <td>2</td>\n",
       "      <td>37</td>\n",
       "      <td>181</td>\n",
       "      <td>Alaska Airlines Inc.</td>\n",
       "      <td>17522</td>\n",
       "      <td>21136</td>\n",
       "      <td>1629</td>\n",
       "      <td>2780593</td>\n",
       "      <td>2884187</td>\n",
       "      <td>0.000032</td>\n",
       "      <td>0.000175</td>\n",
       "      <td>3</td>\n",
       "      <td>Los Angeles International</td>\n",
       "      <td>33.942</td>\n",
       "      <td>-118.408</td>\n",
       "      <td>Portland International</td>\n",
       "      <td>0.0</td>\n",
       "      <td>0.0</td>\n",
       "      <td>0.0</td>\n",
       "      <td>64.0</td>\n",
       "      <td>7.38</td>\n",
       "      <td>58.0</td>\n",
       "      <td>57.0</td>\n",
       "      <td>0.0</td>\n",
       "      <td>0.0</td>\n",
       "      <td>0.0</td>\n",
       "      <td>0.0</td>\n",
       "      <td>0.0</td>\n",
       "      <td>0.0</td>\n",
       "      <td>0.0</td>\n",
       "      <td>0.0</td>\n",
       "      <td>0.0</td>\n",
       "      <td>0.132326</td>\n",
       "      <td>0.112840</td>\n",
       "      <td>0.177124</td>\n",
       "      <td>0.135374</td>\n",
       "    </tr>\n",
       "    <tr>\n",
       "      <th>4</th>\n",
       "      <td>8</td>\n",
       "      <td>7</td>\n",
       "      <td>0</td>\n",
       "      <td>0900-0959</td>\n",
       "      <td>1</td>\n",
       "      <td>2</td>\n",
       "      <td>27</td>\n",
       "      <td>143</td>\n",
       "      <td>Southwest Airlines Co.</td>\n",
       "      <td>14220</td>\n",
       "      <td>114987</td>\n",
       "      <td>6116</td>\n",
       "      <td>1903352</td>\n",
       "      <td>13382999</td>\n",
       "      <td>0.000062</td>\n",
       "      <td>0.000099</td>\n",
       "      <td>20</td>\n",
       "      <td>McCarran International</td>\n",
       "      <td>36.080</td>\n",
       "      <td>-115.152</td>\n",
       "      <td>Spokane International</td>\n",
       "      <td>0.0</td>\n",
       "      <td>0.0</td>\n",
       "      <td>0.0</td>\n",
       "      <td>104.0</td>\n",
       "      <td>4.92</td>\n",
       "      <td>92.0</td>\n",
       "      <td>78.0</td>\n",
       "      <td>0.0</td>\n",
       "      <td>0.0</td>\n",
       "      <td>0.0</td>\n",
       "      <td>0.0</td>\n",
       "      <td>0.0</td>\n",
       "      <td>0.0</td>\n",
       "      <td>0.0</td>\n",
       "      <td>0.0</td>\n",
       "      <td>0.0</td>\n",
       "      <td>0.192550</td>\n",
       "      <td>0.123487</td>\n",
       "      <td>0.196519</td>\n",
       "      <td>0.138067</td>\n",
       "    </tr>\n",
       "  </tbody>\n",
       "</table>\n",
       "</div>"
      ],
      "text/plain": [
       "   MONTH  DAY_OF_WEEK  DEP_DEL15 DEP_TIME_BLK  DISTANCE_GROUP  SEGMENT_NUMBER  \\\n",
       "0      4            6          0    1000-1059               3               3   \n",
       "1      3            2          0    1000-1059               2               2   \n",
       "2      2            5          0    1000-1059               8               2   \n",
       "3      4            6          0    0900-0959              11               2   \n",
       "4      8            7          0    0900-0959               1               2   \n",
       "\n",
       "   CONCURRENT_FLIGHTS  NUMBER_OF_SEATS            CARRIER_NAME  \\\n",
       "0                   5              110    Delta Air Lines Inc.   \n",
       "1                  31               50       Endeavor Air Inc.   \n",
       "2                  37              173   United Air Lines Inc.   \n",
       "3                  37              181    Alaska Airlines Inc.   \n",
       "4                  27              143  Southwest Airlines Co.   \n",
       "\n",
       "   AIRPORT_FLIGHTS_MONTH  AIRLINE_FLIGHTS_MONTH  \\\n",
       "0                   6837                  81803   \n",
       "1                  14450                  22191   \n",
       "2                  16530                  43512   \n",
       "3                  17522                  21136   \n",
       "4                  14220                 114987   \n",
       "\n",
       "   AIRLINE_AIRPORT_FLIGHTS_MONTH  AVG_MONTHLY_PASS_AIRPORT  \\\n",
       "0                            180                    819756   \n",
       "1                           1956                   1208249   \n",
       "2                           4679                   2743323   \n",
       "3                           1629                   2780593   \n",
       "4                           6116                   1903352   \n",
       "\n",
       "   AVG_MONTHLY_PASS_AIRLINE  FLT_ATTENDANTS_PER_PASS  GROUND_SERV_PER_PASS  \\\n",
       "0                  12460183                 0.000144              0.000149   \n",
       "1                   1212846                 0.000000              0.000094   \n",
       "2                   8501631                 0.000254              0.000229   \n",
       "3                   2884187                 0.000032              0.000175   \n",
       "4                  13382999                 0.000062              0.000099   \n",
       "\n",
       "   PLANE_AGE             DEPARTING_AIRPORT  LATITUDE  LONGITUDE  \\\n",
       "0         18  Chicago Midway International    41.785    -87.752   \n",
       "1         15                     LaGuardia    40.779    -73.876   \n",
       "2          7       Stapleton International    39.774   -104.880   \n",
       "3          3     Los Angeles International    33.942   -118.408   \n",
       "4         20        McCarran International    36.080   -115.152   \n",
       "\n",
       "            PREVIOUS_AIRPORT  PRCP  SNOW  SNWD   TMAX   AWND  TAVG  TMIN  \\\n",
       "0          Atlanta Municipal   0.0   0.0   0.0   64.0  13.87  49.0  36.0   \n",
       "1       Bangor International   0.0   0.0   0.0   48.0  12.08  42.0  33.0   \n",
       "2  Los Angeles International   0.0   0.0   0.0   54.0  10.07  38.0  28.0   \n",
       "3     Portland International   0.0   0.0   0.0   64.0   7.38  58.0  57.0   \n",
       "4      Spokane International   0.0   0.0   0.0  104.0   4.92  92.0  78.0   \n",
       "\n",
       "   WT01  WT02  WT03  WT05  WT07  WT08  WT09  WT10  WT11  CARRIER_HISTORICAL  \\\n",
       "0   0.0   0.0   0.0   0.0   0.0   0.0   0.0   0.0   0.0            0.139558   \n",
       "1   0.0   0.0   0.0   0.0   0.0   0.0   0.0   0.0   0.0            0.155571   \n",
       "2   0.0   0.0   0.0   0.0   0.0   0.0   0.0   0.0   0.0            0.189496   \n",
       "3   0.0   0.0   0.0   0.0   0.0   0.0   0.0   0.0   0.0            0.132326   \n",
       "4   0.0   0.0   0.0   0.0   0.0   0.0   0.0   0.0   0.0            0.192550   \n",
       "\n",
       "   DEP_AIRPORT_HIST  DAY_HISTORICAL  DEP_BLOCK_HIST  \n",
       "0          0.180307        0.177124        0.147773  \n",
       "1          0.187883        0.132868        0.156045  \n",
       "2          0.240316        0.236965        0.187484  \n",
       "3          0.112840        0.177124        0.135374  \n",
       "4          0.123487        0.196519        0.138067  "
      ]
     },
     "execution_count": 4,
     "metadata": {},
     "output_type": "execute_result"
    }
   ],
   "source": [
    "pd.set_option('display.max_columns', None)\n",
    "flight_data.head() #display sample dataframe"
   ]
  },
  {
   "cell_type": "code",
   "execution_count": 5,
   "id": "1bf7a51e-6e98-4fee-87ce-6119b377710c",
   "metadata": {
    "colab": {
     "base_uri": "https://localhost:8080/"
    },
    "id": "1bf7a51e-6e98-4fee-87ce-6119b377710c",
    "outputId": "dd3506a1-b370-4dde-94a7-06baac16f31e"
   },
   "outputs": [
    {
     "name": "stdout",
     "output_type": "stream",
     "text": [
      "Available data points within dataset:\n",
      "MONTH\n",
      "DAY_OF_WEEK\n",
      "DEP_DEL15\n",
      "DEP_TIME_BLK\n",
      "DISTANCE_GROUP\n",
      "SEGMENT_NUMBER\n",
      "CONCURRENT_FLIGHTS\n",
      "NUMBER_OF_SEATS\n",
      "CARRIER_NAME\n",
      "AIRPORT_FLIGHTS_MONTH\n",
      "AIRLINE_FLIGHTS_MONTH\n",
      "AIRLINE_AIRPORT_FLIGHTS_MONTH\n",
      "AVG_MONTHLY_PASS_AIRPORT\n",
      "AVG_MONTHLY_PASS_AIRLINE\n",
      "FLT_ATTENDANTS_PER_PASS\n",
      "GROUND_SERV_PER_PASS\n",
      "PLANE_AGE\n",
      "DEPARTING_AIRPORT\n",
      "LATITUDE\n",
      "LONGITUDE\n",
      "PREVIOUS_AIRPORT\n",
      "PRCP\n",
      "SNOW\n",
      "SNWD\n",
      "TMAX\n",
      "AWND\n",
      "TAVG\n",
      "TMIN\n",
      "WT01\n",
      "WT02\n",
      "WT03\n",
      "WT05\n",
      "WT07\n",
      "WT08\n",
      "WT09\n",
      "WT10\n",
      "WT11\n",
      "CARRIER_HISTORICAL\n",
      "DEP_AIRPORT_HIST\n",
      "DAY_HISTORICAL\n",
      "DEP_BLOCK_HIST\n"
     ]
    }
   ],
   "source": [
    "print(\"Available data points within dataset:\")\n",
    "for col in flight_data.columns: \n",
    "    print(col)"
   ]
  },
  {
   "cell_type": "markdown",
   "id": "b1b8ae30-d1d6-49c7-bda3-1b7af07ae042",
   "metadata": {},
   "source": [
    "## Restrict to Douglas Municipal\n",
    "\n",
    "We selected Douglas Municipal as an airport to compare to LaGuardia because it has a high number of delays and is in Douglas, Arizona. Arizona experiences less of the types of weather that might delay flights like snow, thunder and heavy rain.\n",
    "\n",
    "We want to see how weather performs as a predictor of delays for different regions."
   ]
  },
  {
   "cell_type": "code",
   "execution_count": 11,
   "id": "01941746-12bd-4d80-8761-a0ca4adce792",
   "metadata": {
    "id": "Bcg8gdmGs878"
   },
   "outputs": [
    {
     "data": {
      "text/html": [
       "<div>\n",
       "<style scoped>\n",
       "    .dataframe tbody tr th:only-of-type {\n",
       "        vertical-align: middle;\n",
       "    }\n",
       "\n",
       "    .dataframe tbody tr th {\n",
       "        vertical-align: top;\n",
       "    }\n",
       "\n",
       "    .dataframe thead th {\n",
       "        text-align: right;\n",
       "    }\n",
       "</style>\n",
       "<table border=\"1\" class=\"dataframe\">\n",
       "  <thead>\n",
       "    <tr style=\"text-align: right;\">\n",
       "      <th></th>\n",
       "      <th>MONTH</th>\n",
       "      <th>DAY_OF_WEEK</th>\n",
       "      <th>DEP_DEL15</th>\n",
       "      <th>DEP_TIME_BLK</th>\n",
       "      <th>DISTANCE_GROUP</th>\n",
       "      <th>SEGMENT_NUMBER</th>\n",
       "      <th>CONCURRENT_FLIGHTS</th>\n",
       "      <th>NUMBER_OF_SEATS</th>\n",
       "      <th>CARRIER_NAME</th>\n",
       "      <th>AIRPORT_FLIGHTS_MONTH</th>\n",
       "      <th>AIRLINE_FLIGHTS_MONTH</th>\n",
       "      <th>AIRLINE_AIRPORT_FLIGHTS_MONTH</th>\n",
       "      <th>AVG_MONTHLY_PASS_AIRPORT</th>\n",
       "      <th>AVG_MONTHLY_PASS_AIRLINE</th>\n",
       "      <th>FLT_ATTENDANTS_PER_PASS</th>\n",
       "      <th>GROUND_SERV_PER_PASS</th>\n",
       "      <th>PLANE_AGE</th>\n",
       "      <th>DEPARTING_AIRPORT</th>\n",
       "      <th>LATITUDE</th>\n",
       "      <th>LONGITUDE</th>\n",
       "      <th>PREVIOUS_AIRPORT</th>\n",
       "      <th>PRCP</th>\n",
       "      <th>SNOW</th>\n",
       "      <th>SNWD</th>\n",
       "      <th>TMAX</th>\n",
       "      <th>AWND</th>\n",
       "      <th>TAVG</th>\n",
       "      <th>TMIN</th>\n",
       "      <th>WT01</th>\n",
       "      <th>WT02</th>\n",
       "      <th>WT03</th>\n",
       "      <th>WT05</th>\n",
       "      <th>WT07</th>\n",
       "      <th>WT08</th>\n",
       "      <th>WT09</th>\n",
       "      <th>WT10</th>\n",
       "      <th>WT11</th>\n",
       "      <th>CARRIER_HISTORICAL</th>\n",
       "      <th>DEP_AIRPORT_HIST</th>\n",
       "      <th>DAY_HISTORICAL</th>\n",
       "      <th>DEP_BLOCK_HIST</th>\n",
       "    </tr>\n",
       "  </thead>\n",
       "  <tbody>\n",
       "    <tr>\n",
       "      <th>55</th>\n",
       "      <td>5</td>\n",
       "      <td>1</td>\n",
       "      <td>0</td>\n",
       "      <td>0600-0659</td>\n",
       "      <td>2</td>\n",
       "      <td>1</td>\n",
       "      <td>11</td>\n",
       "      <td>66</td>\n",
       "      <td>Mesa Airlines Inc.</td>\n",
       "      <td>19807</td>\n",
       "      <td>18618</td>\n",
       "      <td>199</td>\n",
       "      <td>2006675</td>\n",
       "      <td>1191889</td>\n",
       "      <td>0.000000</td>\n",
       "      <td>0.000091</td>\n",
       "      <td>16</td>\n",
       "      <td>Douglas Municipal</td>\n",
       "      <td>35.219</td>\n",
       "      <td>-80.936</td>\n",
       "      <td>NONE</td>\n",
       "      <td>0.0</td>\n",
       "      <td>0.0</td>\n",
       "      <td>0.0</td>\n",
       "      <td>78.0</td>\n",
       "      <td>8.05</td>\n",
       "      <td>71.0</td>\n",
       "      <td>57.0</td>\n",
       "      <td>0.0</td>\n",
       "      <td>0.0</td>\n",
       "      <td>0.0</td>\n",
       "      <td>0.0</td>\n",
       "      <td>0.0</td>\n",
       "      <td>0.0</td>\n",
       "      <td>0.0</td>\n",
       "      <td>0.0</td>\n",
       "      <td>0.0</td>\n",
       "      <td>0.196234</td>\n",
       "      <td>0.187883</td>\n",
       "      <td>0.193668</td>\n",
       "      <td>0.069222</td>\n",
       "    </tr>\n",
       "    <tr>\n",
       "      <th>56</th>\n",
       "      <td>4</td>\n",
       "      <td>2</td>\n",
       "      <td>0</td>\n",
       "      <td>0700-0759</td>\n",
       "      <td>9</td>\n",
       "      <td>1</td>\n",
       "      <td>50</td>\n",
       "      <td>187</td>\n",
       "      <td>American Airlines Inc.</td>\n",
       "      <td>18979</td>\n",
       "      <td>74131</td>\n",
       "      <td>7939</td>\n",
       "      <td>2006675</td>\n",
       "      <td>11744595</td>\n",
       "      <td>0.000098</td>\n",
       "      <td>0.000177</td>\n",
       "      <td>4</td>\n",
       "      <td>Douglas Municipal</td>\n",
       "      <td>35.219</td>\n",
       "      <td>-80.936</td>\n",
       "      <td>NONE</td>\n",
       "      <td>0.0</td>\n",
       "      <td>0.0</td>\n",
       "      <td>0.0</td>\n",
       "      <td>73.0</td>\n",
       "      <td>5.82</td>\n",
       "      <td>57.0</td>\n",
       "      <td>39.0</td>\n",
       "      <td>0.0</td>\n",
       "      <td>0.0</td>\n",
       "      <td>0.0</td>\n",
       "      <td>0.0</td>\n",
       "      <td>0.0</td>\n",
       "      <td>0.0</td>\n",
       "      <td>0.0</td>\n",
       "      <td>0.0</td>\n",
       "      <td>0.0</td>\n",
       "      <td>0.204604</td>\n",
       "      <td>0.187883</td>\n",
       "      <td>0.138603</td>\n",
       "      <td>0.094280</td>\n",
       "    </tr>\n",
       "    <tr>\n",
       "      <th>61</th>\n",
       "      <td>5</td>\n",
       "      <td>7</td>\n",
       "      <td>0</td>\n",
       "      <td>1900-1959</td>\n",
       "      <td>2</td>\n",
       "      <td>8</td>\n",
       "      <td>22</td>\n",
       "      <td>70</td>\n",
       "      <td>Comair Inc.</td>\n",
       "      <td>19807</td>\n",
       "      <td>24260</td>\n",
       "      <td>8154</td>\n",
       "      <td>2006675</td>\n",
       "      <td>1245396</td>\n",
       "      <td>0.000000</td>\n",
       "      <td>0.000090</td>\n",
       "      <td>16</td>\n",
       "      <td>Douglas Municipal</td>\n",
       "      <td>35.219</td>\n",
       "      <td>-80.936</td>\n",
       "      <td>Fayetteville Regional/Grannis Field</td>\n",
       "      <td>0.0</td>\n",
       "      <td>0.0</td>\n",
       "      <td>0.0</td>\n",
       "      <td>95.0</td>\n",
       "      <td>4.03</td>\n",
       "      <td>83.0</td>\n",
       "      <td>68.0</td>\n",
       "      <td>1.0</td>\n",
       "      <td>0.0</td>\n",
       "      <td>0.0</td>\n",
       "      <td>0.0</td>\n",
       "      <td>0.0</td>\n",
       "      <td>1.0</td>\n",
       "      <td>0.0</td>\n",
       "      <td>0.0</td>\n",
       "      <td>0.0</td>\n",
       "      <td>0.171848</td>\n",
       "      <td>0.187883</td>\n",
       "      <td>0.211331</td>\n",
       "      <td>0.307369</td>\n",
       "    </tr>\n",
       "    <tr>\n",
       "      <th>103</th>\n",
       "      <td>10</td>\n",
       "      <td>4</td>\n",
       "      <td>1</td>\n",
       "      <td>1500-1559</td>\n",
       "      <td>3</td>\n",
       "      <td>5</td>\n",
       "      <td>19</td>\n",
       "      <td>100</td>\n",
       "      <td>JetBlue Airways</td>\n",
       "      <td>20449</td>\n",
       "      <td>24795</td>\n",
       "      <td>145</td>\n",
       "      <td>2006675</td>\n",
       "      <td>3190369</td>\n",
       "      <td>0.000160</td>\n",
       "      <td>0.000127</td>\n",
       "      <td>12</td>\n",
       "      <td>Douglas Municipal</td>\n",
       "      <td>35.219</td>\n",
       "      <td>-80.936</td>\n",
       "      <td>Logan International</td>\n",
       "      <td>0.0</td>\n",
       "      <td>0.0</td>\n",
       "      <td>0.0</td>\n",
       "      <td>67.0</td>\n",
       "      <td>5.59</td>\n",
       "      <td>55.0</td>\n",
       "      <td>42.0</td>\n",
       "      <td>0.0</td>\n",
       "      <td>0.0</td>\n",
       "      <td>0.0</td>\n",
       "      <td>0.0</td>\n",
       "      <td>0.0</td>\n",
       "      <td>0.0</td>\n",
       "      <td>0.0</td>\n",
       "      <td>0.0</td>\n",
       "      <td>0.0</td>\n",
       "      <td>0.198369</td>\n",
       "      <td>0.186675</td>\n",
       "      <td>0.192619</td>\n",
       "      <td>0.196905</td>\n",
       "    </tr>\n",
       "    <tr>\n",
       "      <th>135</th>\n",
       "      <td>7</td>\n",
       "      <td>1</td>\n",
       "      <td>1</td>\n",
       "      <td>1600-1659</td>\n",
       "      <td>3</td>\n",
       "      <td>4</td>\n",
       "      <td>61</td>\n",
       "      <td>90</td>\n",
       "      <td>Comair Inc.</td>\n",
       "      <td>19534</td>\n",
       "      <td>24403</td>\n",
       "      <td>8305</td>\n",
       "      <td>2006675</td>\n",
       "      <td>1245396</td>\n",
       "      <td>0.000000</td>\n",
       "      <td>0.000090</td>\n",
       "      <td>5</td>\n",
       "      <td>Douglas Municipal</td>\n",
       "      <td>35.219</td>\n",
       "      <td>-80.936</td>\n",
       "      <td>Theodore Francis Green State</td>\n",
       "      <td>0.0</td>\n",
       "      <td>0.0</td>\n",
       "      <td>0.0</td>\n",
       "      <td>92.0</td>\n",
       "      <td>3.80</td>\n",
       "      <td>80.0</td>\n",
       "      <td>66.0</td>\n",
       "      <td>1.0</td>\n",
       "      <td>0.0</td>\n",
       "      <td>0.0</td>\n",
       "      <td>0.0</td>\n",
       "      <td>0.0</td>\n",
       "      <td>1.0</td>\n",
       "      <td>0.0</td>\n",
       "      <td>0.0</td>\n",
       "      <td>0.0</td>\n",
       "      <td>0.214296</td>\n",
       "      <td>0.193519</td>\n",
       "      <td>0.219939</td>\n",
       "      <td>0.289210</td>\n",
       "    </tr>\n",
       "  </tbody>\n",
       "</table>\n",
       "</div>"
      ],
      "text/plain": [
       "     MONTH  DAY_OF_WEEK  DEP_DEL15 DEP_TIME_BLK  DISTANCE_GROUP  \\\n",
       "55       5            1          0    0600-0659               2   \n",
       "56       4            2          0    0700-0759               9   \n",
       "61       5            7          0    1900-1959               2   \n",
       "103     10            4          1    1500-1559               3   \n",
       "135      7            1          1    1600-1659               3   \n",
       "\n",
       "     SEGMENT_NUMBER  CONCURRENT_FLIGHTS  NUMBER_OF_SEATS  \\\n",
       "55                1                  11               66   \n",
       "56                1                  50              187   \n",
       "61                8                  22               70   \n",
       "103               5                  19              100   \n",
       "135               4                  61               90   \n",
       "\n",
       "               CARRIER_NAME  AIRPORT_FLIGHTS_MONTH  AIRLINE_FLIGHTS_MONTH  \\\n",
       "55       Mesa Airlines Inc.                  19807                  18618   \n",
       "56   American Airlines Inc.                  18979                  74131   \n",
       "61              Comair Inc.                  19807                  24260   \n",
       "103         JetBlue Airways                  20449                  24795   \n",
       "135             Comair Inc.                  19534                  24403   \n",
       "\n",
       "     AIRLINE_AIRPORT_FLIGHTS_MONTH  AVG_MONTHLY_PASS_AIRPORT  \\\n",
       "55                             199                   2006675   \n",
       "56                            7939                   2006675   \n",
       "61                            8154                   2006675   \n",
       "103                            145                   2006675   \n",
       "135                           8305                   2006675   \n",
       "\n",
       "     AVG_MONTHLY_PASS_AIRLINE  FLT_ATTENDANTS_PER_PASS  GROUND_SERV_PER_PASS  \\\n",
       "55                    1191889                 0.000000              0.000091   \n",
       "56                   11744595                 0.000098              0.000177   \n",
       "61                    1245396                 0.000000              0.000090   \n",
       "103                   3190369                 0.000160              0.000127   \n",
       "135                   1245396                 0.000000              0.000090   \n",
       "\n",
       "     PLANE_AGE  DEPARTING_AIRPORT  LATITUDE  LONGITUDE  \\\n",
       "55          16  Douglas Municipal    35.219    -80.936   \n",
       "56           4  Douglas Municipal    35.219    -80.936   \n",
       "61          16  Douglas Municipal    35.219    -80.936   \n",
       "103         12  Douglas Municipal    35.219    -80.936   \n",
       "135          5  Douglas Municipal    35.219    -80.936   \n",
       "\n",
       "                        PREVIOUS_AIRPORT  PRCP  SNOW  SNWD  TMAX  AWND  TAVG  \\\n",
       "55                                  NONE   0.0   0.0   0.0  78.0  8.05  71.0   \n",
       "56                                  NONE   0.0   0.0   0.0  73.0  5.82  57.0   \n",
       "61   Fayetteville Regional/Grannis Field   0.0   0.0   0.0  95.0  4.03  83.0   \n",
       "103                  Logan International   0.0   0.0   0.0  67.0  5.59  55.0   \n",
       "135         Theodore Francis Green State   0.0   0.0   0.0  92.0  3.80  80.0   \n",
       "\n",
       "     TMIN  WT01  WT02  WT03  WT05  WT07  WT08  WT09  WT10  WT11  \\\n",
       "55   57.0   0.0   0.0   0.0   0.0   0.0   0.0   0.0   0.0   0.0   \n",
       "56   39.0   0.0   0.0   0.0   0.0   0.0   0.0   0.0   0.0   0.0   \n",
       "61   68.0   1.0   0.0   0.0   0.0   0.0   1.0   0.0   0.0   0.0   \n",
       "103  42.0   0.0   0.0   0.0   0.0   0.0   0.0   0.0   0.0   0.0   \n",
       "135  66.0   1.0   0.0   0.0   0.0   0.0   1.0   0.0   0.0   0.0   \n",
       "\n",
       "     CARRIER_HISTORICAL  DEP_AIRPORT_HIST  DAY_HISTORICAL  DEP_BLOCK_HIST  \n",
       "55             0.196234          0.187883        0.193668        0.069222  \n",
       "56             0.204604          0.187883        0.138603        0.094280  \n",
       "61             0.171848          0.187883        0.211331        0.307369  \n",
       "103            0.198369          0.186675        0.192619        0.196905  \n",
       "135            0.214296          0.193519        0.219939        0.289210  "
      ]
     },
     "execution_count": 11,
     "metadata": {},
     "output_type": "execute_result"
    }
   ],
   "source": [
    "#set as copy of flight data to prevent SettingwithCopyWarning\n",
    "az = flight_data.loc[flight_data['DEPARTING_AIRPORT'] == \"Douglas Municipal\"].copy()\n",
    "az.head()"
   ]
  },
  {
   "cell_type": "markdown",
   "id": "f27d3134-e8d4-40f9-ab8a-385ef13c941a",
   "metadata": {},
   "source": [
    "## Set up Environment"
   ]
  },
  {
   "cell_type": "code",
   "execution_count": 7,
   "id": "8a7a42dc-06ea-4307-9753-1b259c7e6ab9",
   "metadata": {},
   "outputs": [],
   "source": [
    "# Pre-requisites\n",
    "import pandas as pd\n",
    "import numpy as np\n",
    "import matplotlib\n",
    "import matplotlib.pyplot as plt\n",
    "import seaborn as sns\n",
    "\n",
    "# Store the classifier models to save time\n",
    "import joblib\n",
    "\n",
    "# Preprocessing\n",
    "from sklearn.preprocessing import LabelEncoder\n",
    "from sklearn.model_selection import train_test_split\n",
    "from sklearn.preprocessing import MinMaxScaler\n",
    "\n",
    "# Classifiers from scikit-learn\n",
    "from sklearn.linear_model import LogisticRegression\n",
    "from sklearn.tree import DecisionTreeClassifier\n",
    "from sklearn.ensemble import GradientBoostingClassifier\n",
    "from sklearn.ensemble import RandomForestClassifier\n",
    "from sklearn.ensemble import ExtraTreesClassifier\n",
    "\n",
    "# Performance metrics\n",
    "from sklearn.metrics import accuracy_score\n",
    "from sklearn.metrics import f1_score\n",
    "from sklearn.metrics import precision_score\n",
    "from sklearn.metrics import recall_score\n",
    "from sklearn.metrics import classification_report\n",
    "from sklearn.metrics import confusion_matrix\n",
    "from sklearn.metrics import plot_confusion_matrix\n",
    "\n",
    "from sklearn.metrics import roc_curve\n",
    "from sklearn.metrics import roc_auc_score\n",
    "\n",
    "from scipy.stats import pointbiserialr"
   ]
  },
  {
   "cell_type": "markdown",
   "id": "6a56a6eb-c960-4095-99d8-fe1fcc6f08e4",
   "metadata": {},
   "source": [
    "## Determine how many observations fall under each class \n",
    "### 0 : not delayed 1 : delayed"
   ]
  },
  {
   "cell_type": "code",
   "execution_count": 12,
   "id": "5a692149-bd68-4a69-92a6-c87c46cdea13",
   "metadata": {},
   "outputs": [
    {
     "data": {
      "image/png": "[encoded data removed]",
      "text/plain": [
       "<Figure size 432x288 with 1 Axes>"
      ]
     },
     "metadata": {
      "needs_background": "light"
     },
     "output_type": "display_data"
    },
    {
     "name": "stdout",
     "output_type": "stream",
     "text": [
      "0    186897\n",
      "1     44958\n",
      "Name: DEP_DEL15, dtype: int64\n"
     ]
    }
   ],
   "source": [
    "# Plotting the percentage of observations that fall under each class\n",
    "ax = az[\"DEP_DEL15\"].value_counts().sort_values().plot(kind=\"barh\", color=[\"r\", \"g\"])\n",
    "totals= []\n",
    "for i in ax.patches:\n",
    "    totals.append(i.get_width())\n",
    "total = sum(totals)\n",
    "for i in ax.patches:\n",
    "     ax.text(i.get_width()+.3, i.get_y()+.20, \n",
    "     str(round((i.get_width()/total)*100, 2))+'%', \n",
    "     fontsize=10, color='black')\n",
    "plt.title(\"DEP_DEL15\", fontsize=20)\n",
    "plt.xlabel(\"Count\", fontsize=14)\n",
    "plt.ylabel(\"Class\", fontsize=14)\n",
    "plt.show()\n",
    "print(az[\"DEP_DEL15\"].value_counts())\n",
    "fig = ax.get_figure()"
   ]
  },
  {
   "cell_type": "markdown",
   "id": "7ae15a91-8e9f-436b-8189-11607db66abf",
   "metadata": {},
   "source": [
    "## Point Biserial Correlation for Quantitative, Continuous Features with DEP_DEL15\n",
    "\n",
    "A correlation coefficient measures the extent to which two variables tend to change together. The coefficient describes both the strength and the direction of the relationship.\n",
    "\n",
    "A point-biserial correlation is used to measure the strength and direction of the association that exists between one continuous variable and one dichotomous variable.  [Interpreting PBC](https://www.scalestatistics.com/point-biserial.html)\n",
    "\n",
    "We see that the highest correlation for DEP_DEL15 is with WTO3 (Thunder), PRCP (precipitation) and TMIN (temperature min). Compared to LaGuardia, we are seeing lower correlations between weather data and departure delay."
   ]
  },
  {
   "cell_type": "code",
   "execution_count": 15,
   "id": "9d4acd1a-4610-4bfc-8109-3c6438f67739",
   "metadata": {},
   "outputs": [
    {
     "data": {
      "text/html": [
       "<div>\n",
       "<style scoped>\n",
       "    .dataframe tbody tr th:only-of-type {\n",
       "        vertical-align: middle;\n",
       "    }\n",
       "\n",
       "    .dataframe tbody tr th {\n",
       "        vertical-align: top;\n",
       "    }\n",
       "\n",
       "    .dataframe thead th {\n",
       "        text-align: right;\n",
       "    }\n",
       "</style>\n",
       "<table border=\"1\" class=\"dataframe\">\n",
       "  <thead>\n",
       "    <tr style=\"text-align: right;\">\n",
       "      <th></th>\n",
       "      <th>Feature</th>\n",
       "      <th>CorrCoeff</th>\n",
       "      <th>pValue</th>\n",
       "    </tr>\n",
       "  </thead>\n",
       "  <tbody>\n",
       "    <tr>\n",
       "      <th>0</th>\n",
       "      <td>WT03</td>\n",
       "      <td>0.160840</td>\n",
       "      <td>0.000000e+00</td>\n",
       "    </tr>\n",
       "    <tr>\n",
       "      <th>1</th>\n",
       "      <td>PRCP</td>\n",
       "      <td>0.115728</td>\n",
       "      <td>0.000000e+00</td>\n",
       "    </tr>\n",
       "    <tr>\n",
       "      <th>2</th>\n",
       "      <td>TMIN</td>\n",
       "      <td>0.071302</td>\n",
       "      <td>5.681815e-259</td>\n",
       "    </tr>\n",
       "    <tr>\n",
       "      <th>3</th>\n",
       "      <td>WT01</td>\n",
       "      <td>0.064877</td>\n",
       "      <td>1.122171e-214</td>\n",
       "    </tr>\n",
       "    <tr>\n",
       "      <th>4</th>\n",
       "      <td>AWND</td>\n",
       "      <td>0.056345</td>\n",
       "      <td>2.387635e-162</td>\n",
       "    </tr>\n",
       "    <tr>\n",
       "      <th>5</th>\n",
       "      <td>WT05</td>\n",
       "      <td>0.051239</td>\n",
       "      <td>1.432161e-134</td>\n",
       "    </tr>\n",
       "    <tr>\n",
       "      <th>6</th>\n",
       "      <td>TAVG</td>\n",
       "      <td>0.049938</td>\n",
       "      <td>6.463418e-128</td>\n",
       "    </tr>\n",
       "    <tr>\n",
       "      <th>7</th>\n",
       "      <td>WT08</td>\n",
       "      <td>0.039350</td>\n",
       "      <td>4.046266e-80</td>\n",
       "    </tr>\n",
       "    <tr>\n",
       "      <th>8</th>\n",
       "      <td>TMAX</td>\n",
       "      <td>0.035506</td>\n",
       "      <td>1.432399e-65</td>\n",
       "    </tr>\n",
       "    <tr>\n",
       "      <th>9</th>\n",
       "      <td>WT02</td>\n",
       "      <td>0.030582</td>\n",
       "      <td>4.185222e-49</td>\n",
       "    </tr>\n",
       "    <tr>\n",
       "      <th>10</th>\n",
       "      <td>SNOW</td>\n",
       "      <td>0.005696</td>\n",
       "      <td>6.093510e-03</td>\n",
       "    </tr>\n",
       "  </tbody>\n",
       "</table>\n",
       "</div>"
      ],
      "text/plain": [
       "   Feature  CorrCoeff         pValue\n",
       "0     WT03   0.160840   0.000000e+00\n",
       "1     PRCP   0.115728   0.000000e+00\n",
       "2     TMIN   0.071302  5.681815e-259\n",
       "3     WT01   0.064877  1.122171e-214\n",
       "4     AWND   0.056345  2.387635e-162\n",
       "5     WT05   0.051239  1.432161e-134\n",
       "6     TAVG   0.049938  6.463418e-128\n",
       "7     WT08   0.039350   4.046266e-80\n",
       "8     TMAX   0.035506   1.432399e-65\n",
       "9     WT02   0.030582   4.185222e-49\n",
       "10    SNOW   0.005696   6.093510e-03"
      ]
     },
     "execution_count": 15,
     "metadata": {},
     "output_type": "execute_result"
    }
   ],
   "source": [
    "#Encode to numerical values \n",
    "labelEncoder = LabelEncoder()\n",
    "az[\"CARRIER_NAME\"] = labelEncoder.fit_transform(az[\"CARRIER_NAME\"])\n",
    "az[\"PREVIOUS_AIRPORT\"] = labelEncoder.fit_transform(az[\"PREVIOUS_AIRPORT\"])\n",
    "az[\"DEPARTING_AIRPORT\"] = labelEncoder.fit_transform(az[\"DEPARTING_AIRPORT\"])\n",
    "az[\"DEP_TIME_BLK\"] = labelEncoder.fit_transform(az[\"PREVIOUS_AIRPORT\"])\n",
    "\n",
    "# get continuous and dichotomous data\n",
    "categorical = [\"DEP_DEL15\",\"MONTH\",\"DAY_OF_WEEK\",\"DEP_TIME_BLK\",\"DISTANCE_GROUP\",\"SEGMENT_NUMBER\",\"CONCURRENT_FLIGHTS\",\"NUMBER_OF_SEATS\",\"CARRIER_NAME\",\"AIRPORT_FLIGHTS_MONTH\",\"AIRLINE_FLIGHTS_MONTH\",\"AIRLINE_AIRPORT_FLIGHTS_MONTH\",\"AVG_MONTHLY_PASS_AIRPORT\",\"AVG_MONTHLY_PASS_AIRLINE\", \"FLT_ATTENDANTS_PER_PASS\",\n",
    "\"GROUND_SERV_PER_PASS\",\"PLANE_AGE\",\"DEPARTING_AIRPORT\",\"LATITUDE\",\"LONGITUDE\",\"PREVIOUS_AIRPORT\",\"CARRIER_HISTORICAL\",\"DEP_AIRPORT_HIST\",\"DAY_HISTORICAL\",\"DEP_BLOCK_HIST\"]\n",
    "#Remove WT09, WT07, SNWD because values are constant\n",
    "numeric = [\"PRCP\", \"SNOW\", \"TMAX\", \"AWND\",\"TAVG\",\"TMIN\",\"WT01\",\"WT02\",\"WT03\",\"WT05\",\"WT08\"]\n",
    "target = az[\"DEP_DEL15\"]\n",
    "\n",
    "# pbc of first question\n",
    "pbc = list()\n",
    "for col in numeric:\n",
    "    ans = pointbiserialr(az[col], target)\n",
    "    pbc.append([col, ans[0], ans[1]])\n",
    "    \n",
    "pbc_corr = pd.DataFrame(pbc, columns=[\"Feature\", \"CorrCoeff\", \"pValue\"]).sort_values(by=\"CorrCoeff\", ascending=False).reset_index(drop=True)\n",
    "pbc_corr"
   ]
  },
  {
   "cell_type": "code",
   "execution_count": 16,
   "id": "9fca6c11-804e-4059-b986-19bbf261b9a6",
   "metadata": {},
   "outputs": [
    {
     "data": {
      "image/png": "[encoded data removed]",
      "text/plain": [
       "<Figure size 504x360 with 2 Axes>"
      ]
     },
     "metadata": {
      "needs_background": "light"
     },
     "output_type": "display_data"
    }
   ],
   "source": [
    "plt.figure(figsize=(7, 5))\n",
    "pbc_corr = pbc_corr.set_index(\"Feature\")\n",
    "heatmap = sns.heatmap(pbc_corr[[\"CorrCoeff\"]].sort_values(by=\"CorrCoeff\", ascending=False), vmin=-1, vmax=1, annot=True, cmap=\"BrBG\")\n",
    "heatmap.set_title(\"PBC with DEP_DEL15\", fontdict={\"fontsize\":18}, pad=16);\n"
   ]
  },
  {
   "cell_type": "markdown",
   "id": "e13b0f71-a2f0-44a6-99d6-833c182187a4",
   "metadata": {},
   "source": [
    "## Spearman Coefficient with categorical data\n",
    "\n",
    "Weather is not the only factor that causes delays. We can see here that there is a strong correlation between Carrier Historical delays and Departing Airport Historical delays and the likelihood of a departure delay."
   ]
  },
  {
   "cell_type": "code",
   "execution_count": 18,
   "id": "149bcff5-2ae3-44cb-a108-a7de4558beaa",
   "metadata": {},
   "outputs": [
    {
     "data": {
      "image/png": "[encoded data removed]",
      "text/plain": [
       "<Figure size 504x360 with 2 Axes>"
      ]
     },
     "metadata": {
      "needs_background": "light"
     },
     "output_type": "display_data"
    }
   ],
   "source": [
    "plt.figure(figsize=(7, 5))\n",
    "heatmap = sns.heatmap(az[categorical].corr(method=\"spearman\")[[\"DEP_DEL15\"]].sort_values(by=\"DEP_DEL15\", ascending=False), vmin=-1, vmax=1, annot=True, cmap=\"BrBG\")\n",
    "heatmap.set_title(\"Spearman Correlations with DEP_DEL15\", fontdict={\"fontsize\":18}, pad=16)\n",
    "plt.savefig(\"data/Img/05_03_Spearman_Dep_Del15.png\")\n",
    "del heatmap"
   ]
  },
  {
   "cell_type": "markdown",
   "id": "4c4596ed-0510-465a-9314-ef088e57cc98",
   "metadata": {
    "tags": []
   },
   "source": [
    "## Feature Selection\n",
    "\n",
    "1. Clean up non-numerical values and remove any problematic NA values.\n",
    "2. Obtain and visualize feature importance ranking\n",
    "3. Select features based on importance ranking"
   ]
  },
  {
   "cell_type": "code",
   "execution_count": 20,
   "id": "4427b1e3-0cb3-45f9-96e5-03a55ec1916b",
   "metadata": {},
   "outputs": [
    {
     "name": "stdout",
     "output_type": "stream",
     "text": [
      "Number of NaN values present: 0\n",
      "Number of NaN values present: 0\n",
      "printing column name where infinity is present\n",
      "Series([], dtype: object)\n"
     ]
    }
   ],
   "source": [
    "#Convert all data to numeric\n",
    "az = az.apply(pd.to_numeric)\n",
    "\n",
    "# check for nulls\n",
    "nan_in_df = az.isnull().sum().sum()\n",
    "print('Number of NaN values present: ' + str(nan_in_df))\n",
    " \n",
    "az.dropna(subset=['DEP_AIRPORT_HIST','DAY_HISTORICAL','DEP_BLOCK_HIST'], inplace=True)\n",
    "\n",
    "nan_in_df = az.isnull().sum().sum()\n",
    "print('Number of NaN values present: ' + str(nan_in_df))\n",
    "\n",
    "print(\"printing column name where infinity is present\")\n",
    "col_name = az.columns.to_series()[np.isinf(az).any()]\n",
    "print(col_name)"
   ]
  },
  {
   "cell_type": "markdown",
   "id": "891d24ab-0a92-425d-aa97-07af8ae01597",
   "metadata": {},
   "source": [
    "### What happens if we look at weather data alone as features?\n",
    "\n",
    "Is historical weather data enough to adequately predict flight delays?\n",
    "\n",
    "Drop W10 and W11. Values not unique"
   ]
  },
  {
   "cell_type": "code",
   "execution_count": 28,
   "id": "19a53408-68a7-433f-a71c-e40325c25a08",
   "metadata": {
    "tags": []
   },
   "outputs": [
    {
     "name": "stdout",
     "output_type": "stream",
     "text": [
      "Number of NaN values present: 0\n",
      "Series([], dtype: bool)\n"
     ]
    },
    {
     "data": {
      "text/plain": [
       "array([0.19813706, 0.00052249, 0.11334531, 0.12786676, 0.12522881,\n",
       "       0.13447371, 0.02785777, 0.00943054, 0.24006068, 0.00490494,\n",
       "       0.01817194])"
      ]
     },
     "execution_count": 28,
     "metadata": {},
     "output_type": "execute_result"
    }
   ],
   "source": [
    "#Select all data as features\n",
    "X = az[[\"PRCP\",\"SNOW\", \"TMAX\", \"AWND\",\"TAVG\",\"TMIN\",\"WT01\",\"WT02\",\"WT03\",\"WT05\",\"WT08\"]]\n",
    "\n",
    "#Standardize weather data\n",
    "XNormed = (X - X.mean())/(X.std())\n",
    "\n",
    "y = np.asarray(az[\"DEP_DEL15\"])\n",
    "\n",
    "model = RandomForestClassifier(n_estimators=100,\n",
    "                       criterion=\"entropy\", random_state=42, n_jobs=-1)\n",
    "\n",
    "model.fit(XNormed, y)\n",
    "\n",
    "importances = model.feature_importances_\n",
    "importances"
   ]
  },
  {
   "cell_type": "code",
   "execution_count": 29,
   "id": "9b71a97b-0084-4b55-a20c-e2f076993cab",
   "metadata": {},
   "outputs": [
    {
     "data": {
      "image/png": "[encoded data removed]",
      "text/plain": [
       "<Figure size 640x480 with 1 Axes>"
      ]
     },
     "metadata": {
      "needs_background": "light"
     },
     "output_type": "display_data"
    }
   ],
   "source": [
    "importances = pd.DataFrame({\n",
    "    \"Feature\": list(XNormed.columns),\n",
    "    \"Importance\": model.feature_importances_\n",
    "})\n",
    "importances = importances.sort_values(by=\"Importance\", ascending=False)\n",
    "importances = importances.set_index(\"Feature\")\n",
    "importances\n",
    "plt.figure(figsize=(8, 6), dpi=80)\n",
    "plt.barh(importances.index, importances.Importance)\n",
    "plt.title(\"Feature Importance Ranking obtained from Random Forest Classifier\", fontsize=12)\n",
    "plt.xlabel(\"Importances\")\n",
    "plt.ylabel(\"Features\")\n",
    "plt.savefig(\"data/Img/05_04_Feature_Importances_RFC.png\")"
   ]
  },
  {
   "cell_type": "markdown",
   "id": "4037c732-f8d0-4241-936c-8c2060c81629",
   "metadata": {},
   "source": [
    "Snow is not important in Arizona! Let's remove snow based on these results."
   ]
  },
  {
   "cell_type": "code",
   "execution_count": 30,
   "id": "d8e8d5de-c1d1-4200-9502-eff85b43a083",
   "metadata": {},
   "outputs": [],
   "source": [
    "del X\n",
    "del y\n",
    "del model\n",
    "del importances"
   ]
  },
  {
   "cell_type": "code",
   "execution_count": 32,
   "id": "dc291e92-4d74-4009-8546-88ed517a461d",
   "metadata": {},
   "outputs": [
    {
     "data": {
      "text/plain": [
       "array([0.21457793, 0.1108294 , 0.12622955, 0.11592602, 0.13000919,\n",
       "       0.02320269, 0.00835384, 0.24694263, 0.00666103, 0.01726771])"
      ]
     },
     "execution_count": 32,
     "metadata": {},
     "output_type": "execute_result"
    }
   ],
   "source": [
    "#Select relevant data as features\n",
    "X = az[[\"PRCP\",\"TMAX\", \"AWND\",\"TAVG\",\"TMIN\",\"WT01\",\"WT02\",\"WT03\",\"WT05\",\"WT08\"]]\n",
    "\n",
    "#Standardize weather data\n",
    "XNormed = (X - X.mean())/(X.std())\n",
    "\n",
    "y = np.asarray(az[\"DEP_DEL15\"])\n",
    "\n",
    "model = RandomForestClassifier(n_estimators=100,\n",
    "                       criterion=\"entropy\", random_state=42, n_jobs=-1)\n",
    "\n",
    "model.fit(XNormed, y)\n",
    "\n",
    "importances = model.feature_importances_\n",
    "importances"
   ]
  },
  {
   "cell_type": "code",
   "execution_count": 35,
   "id": "77969892-0ddb-4dd7-83cf-ed25a12a2026",
   "metadata": {
    "tags": []
   },
   "outputs": [
    {
     "name": "stdout",
     "output_type": "stream",
     "text": [
      "\n",
      "Dataset shape: (231855, 10)\n",
      "features_train shape: (46371, 10) | features_test shape: (185484, 10)\n",
      "labels_train shape: (46371,) | labels_test shape: (185484,)\n"
     ]
    }
   ],
   "source": [
    "# Number of samples/observations/rows is greater than 100,000\n",
    "print(f\"\\nDataset shape: {XNormed.shape}\")\n",
    "features_train, features_test, labels_train, labels_test = train_test_split(XNormed, y, test_size=0.80, random_state=42)\n",
    "print(f\"features_train shape: {features_train.shape} | features_test shape: {features_test.shape}\")\n",
    "print(f\"labels_train shape: {labels_train.shape} | labels_test shape: {labels_test.shape}\")"
   ]
  },
  {
   "cell_type": "markdown",
   "id": "605a979d-16a0-4cc4-8e64-80bc1b0baeb5",
   "metadata": {
    "tags": []
   },
   "source": [
    "### Logistic Regression Model with Weather Features"
   ]
  },
  {
   "cell_type": "code",
   "execution_count": 36,
   "id": "9278070d-ec2d-4bed-932c-aa9aed0c2b73",
   "metadata": {
    "tags": []
   },
   "outputs": [
    {
     "name": "stdout",
     "output_type": "stream",
     "text": [
      "[[149537      0]\n",
      " [ 35947      0]]\n",
      "              precision    recall  f1-score   support\n",
      "\n",
      "           0       0.81      1.00      0.89    149537\n",
      "           1       0.00      0.00      0.00     35947\n",
      "\n",
      "    accuracy                           0.81    185484\n",
      "   macro avg       0.40      0.50      0.45    185484\n",
      "weighted avg       0.65      0.81      0.72    185484\n",
      "\n",
      "<sklearn.metrics._plot.confusion_matrix.ConfusionMatrixDisplay object at 0x7ff1610a3100>\n"
     ]
    },
    {
     "name": "stderr",
     "output_type": "stream",
     "text": [
      "/opt/anaconda3/lib/python3.9/site-packages/sklearn/metrics/_classification.py:1318: UndefinedMetricWarning: Precision and F-score are ill-defined and being set to 0.0 in labels with no predicted samples. Use `zero_division` parameter to control this behavior.\n",
      "  _warn_prf(average, modifier, msg_start, len(result))\n",
      "/opt/anaconda3/lib/python3.9/site-packages/sklearn/metrics/_classification.py:1318: UndefinedMetricWarning: Precision and F-score are ill-defined and being set to 0.0 in labels with no predicted samples. Use `zero_division` parameter to control this behavior.\n",
      "  _warn_prf(average, modifier, msg_start, len(result))\n",
      "/opt/anaconda3/lib/python3.9/site-packages/sklearn/metrics/_classification.py:1318: UndefinedMetricWarning: Precision and F-score are ill-defined and being set to 0.0 in labels with no predicted samples. Use `zero_division` parameter to control this behavior.\n",
      "  _warn_prf(average, modifier, msg_start, len(result))\n"
     ]
    },
    {
     "data": {
      "image/png": "[encoded data removed]",
      "text/plain": [
       "<Figure size 432x288 with 2 Axes>"
      ]
     },
     "metadata": {
      "needs_background": "light"
     },
     "output_type": "display_data"
    }
   ],
   "source": [
    "model = LogisticRegression(solver='lbfgs', max_iter = 500)\n",
    "model.fit(features_train, labels_train)\n",
    "joblib.dump(model, \"data/Classifiers/LogisticRegression.joblib\")\n",
    "#model = joblib.load(\"data/Classifiers/LogisticRegression.joblib\")\n",
    "\n",
    "model_pred = model.predict(features_test)\n",
    "print(confusion_matrix(labels_test, model_pred))\n",
    "print(classification_report(labels_test, model_pred))\n",
    "conf_mat_plot = plot_confusion_matrix(model, features_test, labels_test)\n",
    "plt.title(\"Logistic Regression with Weather Features\")\n",
    "print(conf_mat_plot)\n",
    "plt.savefig(\"data/Img/05_06_LogRegression_Weather\")"
   ]
  },
  {
   "cell_type": "markdown",
   "id": "627c48fa-a8b1-47b2-9310-aad08962add3",
   "metadata": {},
   "source": [
    "### Decision Tree Classifier with Weather Features"
   ]
  },
  {
   "cell_type": "code",
   "execution_count": 37,
   "id": "15ac3445-9dc3-431a-90c0-e280ab649324",
   "metadata": {},
   "outputs": [
    {
     "name": "stdout",
     "output_type": "stream",
     "text": [
      "              precision    recall  f1-score   support\n",
      "\n",
      "           0       0.81      0.99      0.89    149537\n",
      "           1       0.53      0.03      0.06     35947\n",
      "\n",
      "    accuracy                           0.81    185484\n",
      "   macro avg       0.67      0.51      0.48    185484\n",
      "weighted avg       0.76      0.81      0.73    185484\n",
      "\n",
      "<sklearn.metrics._plot.confusion_matrix.ConfusionMatrixDisplay object at 0x7ff1b0e82850>\n"
     ]
    },
    {
     "data": {
      "image/png": "[encoded data removed]",
      "text/plain": [
       "<Figure size 432x288 with 2 Axes>"
      ]
     },
     "metadata": {
      "needs_background": "light"
     },
     "output_type": "display_data"
    }
   ],
   "source": [
    "model = DecisionTreeClassifier()\n",
    "model.fit(features_train, labels_train)\n",
    "joblib.dump(model, \"data/Classifiers/DecisionTreeClassifier.joblib\")\n",
    "#model = joblib.load(\"data/Classifiers/DecisionTreeClassifier.joblib\")\n",
    "\n",
    "model_pred = model.predict(features_test)\n",
    "# print(confusion_matrix(labels_test, model_pred))\n",
    "print(classification_report(labels_test, model_pred))\n",
    "conf_mat_plot = plot_confusion_matrix(model, features_test, labels_test)\n",
    "plt.title(\"Decision Tree Classifier with Weather Features\")\n",
    "print(conf_mat_plot)\n",
    "plt.savefig(\"data/Img/05_06_DTC_Confusion_Matrix_Weather\")\n"
   ]
  },
  {
   "cell_type": "markdown",
   "id": "7dc6321b-5b3c-4143-b696-b35373524e2b",
   "metadata": {},
   "source": [
    "## Gradient Boosting with Weather Features"
   ]
  },
  {
   "cell_type": "code",
   "execution_count": 39,
   "id": "f33fdabe-bb28-432f-9f52-4f0202f86535",
   "metadata": {},
   "outputs": [
    {
     "name": "stdout",
     "output_type": "stream",
     "text": [
      "              precision    recall  f1-score   support\n",
      "\n",
      "           0       0.81      1.00      0.89    149537\n",
      "           1       0.59      0.02      0.04     35947\n",
      "\n",
      "    accuracy                           0.81    185484\n",
      "   macro avg       0.70      0.51      0.47    185484\n",
      "weighted avg       0.77      0.81      0.73    185484\n",
      "\n",
      "<sklearn.metrics._plot.confusion_matrix.ConfusionMatrixDisplay object at 0x7ff27209f220>\n"
     ]
    },
    {
     "data": {
      "image/png": "[encoded data removed]",
      "text/plain": [
       "<Figure size 432x288 with 2 Axes>"
      ]
     },
     "metadata": {
      "needs_background": "light"
     },
     "output_type": "display_data"
    }
   ],
   "source": [
    "model = GradientBoostingClassifier()\n",
    "model.fit(features_train, labels_train)\n",
    "joblib.dump(model, \"data/Classifiers/GradientBoostingClassifier.joblib\")\n",
    "#model = joblib.load(\"data/Classifiers/GradientBoostingClassifier.joblib\")\n",
    "model_pred = model.predict(features_test)\n",
    "# print(confusion_matrix(labels_test, model_pred))\n",
    "print(classification_report(labels_test, model_pred))\n",
    "conf_mat_plot = plot_confusion_matrix(model, features_test, labels_test)\n",
    "plt.title(\"Gradient Boosting Classifier (XGBoost) with Weather Features\")\n",
    "print(conf_mat_plot)\n",
    "plt.savefig(\"data/Img/05_06_GradientBoost_Weather\")"
   ]
  },
  {
   "cell_type": "markdown",
   "id": "e85535dc-5950-41b1-858d-1e5bc1ae59dc",
   "metadata": {},
   "source": [
    "## Random Forest with Weather Features\n",
    "\n",
    "Increased default size of trees to improve accuracy."
   ]
  },
  {
   "cell_type": "code",
   "execution_count": 40,
   "id": "e47c5a9a-2602-4744-94a6-a4fe2e23dbee",
   "metadata": {
    "tags": []
   },
   "outputs": [
    {
     "name": "stdout",
     "output_type": "stream",
     "text": [
      "[[148463   1074]\n",
      " [ 34718   1229]]\n",
      "              precision    recall  f1-score   support\n",
      "\n",
      "           0       0.81      0.99      0.89    149537\n",
      "           1       0.53      0.03      0.06     35947\n",
      "\n",
      "    accuracy                           0.81    185484\n",
      "   macro avg       0.67      0.51      0.48    185484\n",
      "weighted avg       0.76      0.81      0.73    185484\n",
      "\n",
      "<sklearn.metrics._plot.confusion_matrix.ConfusionMatrixDisplay object at 0x7ff27209f280>\n"
     ]
    },
    {
     "data": {
      "image/png": "[encoded data removed]",
      "text/plain": [
       "<Figure size 432x288 with 2 Axes>"
      ]
     },
     "metadata": {
      "needs_background": "light"
     },
     "output_type": "display_data"
    }
   ],
   "source": [
    "model = RandomForestClassifier(n_estimators = 500, n_jobs=-1)\n",
    "model.fit(features_train, labels_train)\n",
    "joblib.dump(model, \"data/Classifiers/RandomForestClassifier.joblib\")\n",
    "#model = joblib.load(\"data/Classifiers/RandomForestClassifier.joblib\")\n",
    "model_pred = model.predict(features_test)\n",
    "print(confusion_matrix(labels_test, model_pred))\n",
    "print(classification_report(labels_test, model_pred))\n",
    "conf_mat_plot = plot_confusion_matrix(model, features_test, labels_test)\n",
    "plt.title(\"Random Forest Classifier with Weather Features\")\n",
    "print(conf_mat_plot)\n",
    "plt.savefig(\"data/Img/05_08_RFC_Confusion_Matrix_Weather\")\n",
    "del model\n",
    "del model_pred"
   ]
  },
  {
   "cell_type": "markdown",
   "id": "9541c0a9-803d-4320-960a-acc22a8c32fc",
   "metadata": {},
   "source": [
    "## Extra Trees\n",
    "\n",
    "Increased default size of trees to improve accuracy."
   ]
  },
  {
   "cell_type": "code",
   "execution_count": 41,
   "id": "80a1746b-fb4f-48eb-b71e-7943b0a2ae65",
   "metadata": {
    "tags": []
   },
   "outputs": [
    {
     "name": "stdout",
     "output_type": "stream",
     "text": [
      "[[148463   1074]\n",
      " [ 34718   1229]]\n",
      "              precision    recall  f1-score   support\n",
      "\n",
      "           0       0.81      0.99      0.89    149537\n",
      "           1       0.53      0.03      0.06     35947\n",
      "\n",
      "    accuracy                           0.81    185484\n",
      "   macro avg       0.67      0.51      0.48    185484\n",
      "weighted avg       0.76      0.81      0.73    185484\n",
      "\n",
      "<sklearn.metrics._plot.confusion_matrix.ConfusionMatrixDisplay object at 0x7ff2736c7e80>\n"
     ]
    },
    {
     "data": {
      "image/png": "[encoded data removed]",
      "text/plain": [
       "<Figure size 432x288 with 2 Axes>"
      ]
     },
     "metadata": {
      "needs_background": "light"
     },
     "output_type": "display_data"
    }
   ],
   "source": [
    "model = ExtraTreesClassifier(n_jobs=-1,n_estimators = 500)\n",
    "model.fit(features_train, labels_train)\n",
    "joblib.dump(model, \"data/Classifiers/ExtraTreesClassifier.joblib\")\n",
    "# model = joblib.load(\"./Classifiers/ExtraTreesClassifier.joblib\")\n",
    "model_pred = model.predict(features_test)\n",
    "print(confusion_matrix(labels_test, model_pred))\n",
    "print(classification_report(labels_test, model_pred))\n",
    "conf_mat_plot = plot_confusion_matrix(model, features_test, labels_test)\n",
    "plt.title(\"Extra Trees Classifier with Weather Features\")\n",
    "print(conf_mat_plot)\n",
    "plt.savefig(\"data/Img/05_09_ETC_Confusion_Matrix_Weather\")"
   ]
  },
  {
   "cell_type": "markdown",
   "id": "32b6fc63-ac60-4fca-bd0b-c6d6a041faa6",
   "metadata": {},
   "source": [
    "## Result\n",
    "\n",
    "Running our models based only on the weather variables did not produce very good prediction results. "
   ]
  },
  {
   "cell_type": "code",
   "execution_count": 42,
   "id": "79e40aa1-ec42-40ae-abfa-92a49a0783fd",
   "metadata": {},
   "outputs": [],
   "source": [
    "# Setup\n",
    "perf_df = pd.DataFrame(columns=[\"classifiers\", \"fpr\", \"tpr\", \"auc\"])\n",
    "\n",
    "# Handling Extra Trees Classifier separately due to memory constraints\n",
    "fpr, tpr, _ = roc_curve(labels_test,  model_pred)\n",
    "auc = roc_auc_score(labels_test, model_pred)\n",
    "# Record the results\n",
    "perf_df = perf_df.append({\"classifiers\": \"ExtraTreesClassifier\",\n",
    "                                        \"fpr\": fpr, \n",
    "                                        \"tpr\": tpr, \n",
    "                                        \"auc\": auc}, ignore_index=True)\n",
    "del model\n",
    "del model_pred\n",
    "\n",
    "classifiers = [\"LogisticRegression\", \"DecisionTreeClassifier\", \"GradientBoostingClassifier\", \"RandomForestClassifier\"]\n",
    "for clf in classifiers:\n",
    "    # Load the trained classifiers\n",
    "    model = joblib.load(f\"data/Classifiers/{clf}.joblib\")\n",
    "    model_pred = model.predict(features_test)\n",
    "    fpr, tpr, _ = roc_curve(labels_test,  model_pred)\n",
    "    auc = roc_auc_score(labels_test, model_pred)\n",
    "    # Record the results\n",
    "    perf_df = perf_df.append({\"classifiers\": clf,\n",
    "                                        \"fpr\": fpr, \n",
    "                                        \"tpr\": tpr, \n",
    "                                        \"auc\": auc}, ignore_index=True)\n",
    "    del model\n",
    "    del model_pred\n",
    "\n",
    "# Set name of the classifiers as index labels\n",
    "perf_df.set_index(\"classifiers\", inplace=True)"
   ]
  },
  {
   "cell_type": "code",
   "execution_count": 43,
   "id": "691198e2-c930-4963-96d7-e95e32315482",
   "metadata": {},
   "outputs": [
    {
     "data": {
      "image/png": "[encoded data removed]",
      "text/plain": [
       "<Figure size 640x480 with 1 Axes>"
      ]
     },
     "metadata": {
      "needs_background": "light"
     },
     "output_type": "display_data"
    }
   ],
   "source": [
    "fig = plt.figure(figsize=(8,6), dpi=80)\n",
    "for clf_name in perf_df.index:\n",
    "    plt.plot(perf_df.loc[clf_name][\"fpr\"], \n",
    "             perf_df.loc[clf_name][\"tpr\"], \n",
    "             label=\"{}, AUC={:.3f}\".format(clf_name, perf_df.loc[clf_name][\"auc\"]))\n",
    "    \n",
    "plt.plot([0,1], [0,1], color='orange', linestyle='--')\n",
    "\n",
    "plt.xticks(np.arange(0.0, 1.1, step=0.1))\n",
    "plt.xlabel(\"False Positive Rate\", fontsize=15)\n",
    "\n",
    "plt.yticks(np.arange(0.0, 1.1, step=0.1))\n",
    "plt.ylabel(\"True Positive Rate\", fontsize=15)\n",
    "\n",
    "plt.title(\"ROC AUC Analysis\", fontweight=\"bold\", fontsize=15)\n",
    "plt.legend(prop={\"size\":13}, loc=\"lower right\")\n",
    "\n",
    "plt.show()\n",
    "fig.savefig(\"data/Img/05_10_Classifiers_ROC_AUC.png\")"
   ]
  },
  {
   "cell_type": "markdown",
   "id": "2f4d9425-9ceb-44af-b6f1-70109e536bf9",
   "metadata": {},
   "source": [
    "## Is weather data alone providing an accurate prediction?\n",
    "\n",
    "No, weather data alone is not providing an accurate prediction. Weather data is a very poor predictor of delays in Arizona. We had to remove many features for having no unique data (presumably because they are not factors in Arizona weather). It looks like this variation in weather's importance may be a reason we had trouble predicting delays across all airports with weather."
   ]
  },
  {
   "cell_type": "markdown",
   "id": "5f7c2892-e912-4976-8529-e35c7d970915",
   "metadata": {},
   "source": [
    "## Classification with All Available Data"
   ]
  },
  {
   "cell_type": "code",
   "execution_count": 45,
   "id": "90975b98-f0c3-46e5-8bc8-b500e61409b8",
   "metadata": {},
   "outputs": [
    {
     "ename": "NameError",
     "evalue": "name 'X' is not defined",
     "output_type": "error",
     "traceback": [
      "\u001b[0;31m---------------------------------------------------------------------------\u001b[0m",
      "\u001b[0;31mNameError\u001b[0m                                 Traceback (most recent call last)",
      "Input \u001b[0;32mIn [45]\u001b[0m, in \u001b[0;36m<cell line: 1>\u001b[0;34m()\u001b[0m\n\u001b[0;32m----> 1\u001b[0m \u001b[38;5;28;01mdel\u001b[39;00m X\n\u001b[1;32m      2\u001b[0m \u001b[38;5;28;01mdel\u001b[39;00m y\n\u001b[1;32m      3\u001b[0m \u001b[38;5;28;01mdel\u001b[39;00m model\n",
      "\u001b[0;31mNameError\u001b[0m: name 'X' is not defined"
     ]
    }
   ],
   "source": [
    "del X\n",
    "del y\n",
    "del model\n",
    "del importances"
   ]
  },
  {
   "cell_type": "code",
   "execution_count": 47,
   "id": "5cac382f-011f-4b4d-81ff-3a87290b4a80",
   "metadata": {},
   "outputs": [
    {
     "data": {
      "text/plain": [
       "array([0.01165086, 0.02381662, 0.08673426, 0.05511957, 0.05325923,\n",
       "       0.07849151, 0.03945264, 0.00703724, 0.01755094, 0.00674309,\n",
       "       0.00589953, 0.00677745, 0.08177942, 0.08686855, 0.02313996,\n",
       "       0.08814179, 0.0328183 , 0.09514177, 0.022928  , 0.03564781,\n",
       "       0.03977183, 0.034029  , 0.03671186, 0.00717791, 0.00178331,\n",
       "       0.01349751, 0.00065654, 0.0073735 ])"
      ]
     },
     "execution_count": 47,
     "metadata": {},
     "output_type": "execute_result"
    }
   ],
   "source": [
    "#Select all data as features\n",
    "\n",
    "X = az[[\"MONTH\",\"DAY_OF_WEEK\",\"DEP_TIME_BLK\",\"DISTANCE_GROUP\",\"SEGMENT_NUMBER\",\"CONCURRENT_FLIGHTS\",\"NUMBER_OF_SEATS\",\"CARRIER_NAME\",\"AIRLINE_FLIGHTS_MONTH\",\"AVG_MONTHLY_PASS_AIRLINE\", \"FLT_ATTENDANTS_PER_PASS\",\n",
    "\"GROUND_SERV_PER_PASS\",\"PLANE_AGE\",\"PREVIOUS_AIRPORT\",\"CARRIER_HISTORICAL\",\"DEP_AIRPORT_HIST\",\"DAY_HISTORICAL\",\"DEP_BLOCK_HIST\",\"PRCP\",\"TMAX\", \"AWND\",\"TAVG\",\"TMIN\",\"WT01\",\"WT02\",\"WT03\",\"WT05\",\"WT08\"]]\n",
    "\n",
    "#Standardize weather data\n",
    "XNormed = (X - X.mean())/(X.std())\n",
    "\n",
    "y = np.asarray(az[\"DEP_DEL15\"])\n",
    "\n",
    "model = RandomForestClassifier(n_estimators=100,\n",
    "                       criterion=\"entropy\", random_state=42, n_jobs=-1)\n",
    "\n",
    "model.fit(XNormed, y)\n",
    "\n",
    "importances = model.feature_importances_\n",
    "importances"
   ]
  },
  {
   "cell_type": "code",
   "execution_count": 48,
   "id": "3bf2c3eb-0834-4638-94cc-3b82a5a6c3a4",
   "metadata": {},
   "outputs": [
    {
     "data": {
      "image/png": "[encoded data removed]",
      "text/plain": [
       "<Figure size 960x960 with 1 Axes>"
      ]
     },
     "metadata": {
      "needs_background": "light"
     },
     "output_type": "display_data"
    }
   ],
   "source": [
    "importances = pd.DataFrame({\n",
    "    \"Feature\": list(XNormed.columns),\n",
    "    \"Importance\": model.feature_importances_\n",
    "})\n",
    "importances = importances.sort_values(by=\"Importance\", ascending=False)\n",
    "importances = importances.set_index(\"Feature\")\n",
    "importances\n",
    "plt.figure(figsize=(12, 12), dpi=80)\n",
    "plt.barh(importances.index, importances.Importance)\n",
    "plt.title(\"Feature Importance Ranking obtained from Random Forest Classifier\", fontsize=12)\n",
    "plt.xlabel(\"Importances\")\n",
    "plt.ylabel(\"Features\")\n",
    "plt.savefig(\"data/Img/05_04_Feature_Importances_RFC.png\")"
   ]
  },
  {
   "cell_type": "markdown",
   "id": "fffa9011-2447-40ce-8d96-7bb6c5257d68",
   "metadata": {},
   "source": [
    "Only one of the top 10 most important features is a weather data pont (AWND - max wind speed). The most important features for Arizona are non-weather features."
   ]
  },
  {
   "cell_type": "code",
   "execution_count": 49,
   "id": "77835162-3ef2-4ea1-8a28-9ca748925515",
   "metadata": {
    "tags": []
   },
   "outputs": [
    {
     "name": "stdout",
     "output_type": "stream",
     "text": [
      "\n",
      "Dataset shape: (231855, 28)\n",
      "features_train shape: (46371, 28) | features_test shape: (185484, 28)\n",
      "labels_train shape: (46371,) | labels_test shape: (185484,)\n"
     ]
    }
   ],
   "source": [
    "# Number of samples/observations/rows is greater than 100,000\n",
    "print(f\"\\nDataset shape: {XNormed.shape}\")\n",
    "features_train, features_test, labels_train, labels_test = train_test_split(XNormed, y, test_size=0.80, random_state=42)\n",
    "print(f\"features_train shape: {features_train.shape} | features_test shape: {features_test.shape}\")\n",
    "print(f\"labels_train shape: {labels_train.shape} | labels_test shape: {labels_test.shape}\")"
   ]
  },
  {
   "cell_type": "markdown",
   "id": "a4f37b59-1ecf-4eae-846d-713fcf546b22",
   "metadata": {},
   "source": [
    "## Logistic Regression with All Features"
   ]
  },
  {
   "cell_type": "code",
   "execution_count": 50,
   "id": "fae6aacd-bb17-40c8-889f-8bf37354a726",
   "metadata": {
    "tags": []
   },
   "outputs": [
    {
     "name": "stdout",
     "output_type": "stream",
     "text": [
      "[[147843   1694]\n",
      " [ 33347   2600]]\n",
      "              precision    recall  f1-score   support\n",
      "\n",
      "           0       0.82      0.99      0.89    149537\n",
      "           1       0.61      0.07      0.13     35947\n",
      "\n",
      "    accuracy                           0.81    185484\n",
      "   macro avg       0.71      0.53      0.51    185484\n",
      "weighted avg       0.78      0.81      0.75    185484\n",
      "\n",
      "<sklearn.metrics._plot.confusion_matrix.ConfusionMatrixDisplay object at 0x7ff27430a040>\n"
     ]
    },
    {
     "data": {
      "image/png": "[encoded data removed]",
      "text/plain": [
       "<Figure size 432x288 with 2 Axes>"
      ]
     },
     "metadata": {
      "needs_background": "light"
     },
     "output_type": "display_data"
    }
   ],
   "source": [
    "model = LogisticRegression(solver='lbfgs', max_iter = 500)\n",
    "model.fit(features_train, labels_train)\n",
    "joblib.dump(model, \"data/Classifiers/LogisticRegression.joblib\")\n",
    "#model = joblib.load(\"data/Classifiers/LogisticRegression.joblib\")\n",
    "\n",
    "model_pred = model.predict(features_test)\n",
    "print(confusion_matrix(labels_test, model_pred))\n",
    "print(classification_report(labels_test, model_pred))\n",
    "conf_mat_plot = plot_confusion_matrix(model, features_test, labels_test)\n",
    "plt.title(\"Logistic Regression with All Features\")\n",
    "print(conf_mat_plot)\n",
    "plt.savefig(\"data/Img/05_06_LogRegression\")"
   ]
  },
  {
   "cell_type": "markdown",
   "id": "727ed9ab-fce0-46b3-80d9-5e77847de067",
   "metadata": {},
   "source": [
    "## Decision Tree with All Features"
   ]
  },
  {
   "cell_type": "code",
   "execution_count": 51,
   "id": "b8b3276a-bcfe-477f-96de-98132d120cf2",
   "metadata": {},
   "outputs": [
    {
     "name": "stdout",
     "output_type": "stream",
     "text": [
      "              precision    recall  f1-score   support\n",
      "\n",
      "           0       0.84      0.82      0.83    149537\n",
      "           1       0.31      0.34      0.32     35947\n",
      "\n",
      "    accuracy                           0.72    185484\n",
      "   macro avg       0.57      0.58      0.57    185484\n",
      "weighted avg       0.73      0.72      0.73    185484\n",
      "\n",
      "<sklearn.metrics._plot.confusion_matrix.ConfusionMatrixDisplay object at 0x7ff230759ee0>\n"
     ]
    },
    {
     "data": {
      "image/png": "[encoded data removed]",
      "text/plain": [
       "<Figure size 432x288 with 2 Axes>"
      ]
     },
     "metadata": {
      "needs_background": "light"
     },
     "output_type": "display_data"
    }
   ],
   "source": [
    "model = DecisionTreeClassifier()\n",
    "model.fit(features_train, labels_train)\n",
    "joblib.dump(model, \"data/Classifiers/DecisionTreeClassifier.joblib\")\n",
    "#model = joblib.load(\"data/Classifiers/DecisionTreeClassifier.joblib\")\n",
    "\n",
    "model_pred = model.predict(features_test)\n",
    "# print(confusion_matrix(labels_test, model_pred))\n",
    "print(classification_report(labels_test, model_pred))\n",
    "conf_mat_plot = plot_confusion_matrix(model, features_test, labels_test)\n",
    "plt.title(\"Decision Tree Classifier with All Features\")\n",
    "print(conf_mat_plot)\n",
    "plt.savefig(\"data/Img/05_06_DTC_Confusion_Matrix\")\n"
   ]
  },
  {
   "cell_type": "markdown",
   "id": "65cf9058-9ac8-471b-8ae2-62294bf2c937",
   "metadata": {},
   "source": [
    "## Gradient Boosting with All Features"
   ]
  },
  {
   "cell_type": "code",
   "execution_count": 52,
   "id": "74f30e38-b031-48f7-a7b5-a200e3519431",
   "metadata": {},
   "outputs": [
    {
     "name": "stdout",
     "output_type": "stream",
     "text": [
      "              precision    recall  f1-score   support\n",
      "\n",
      "           0       0.83      0.98      0.90    149537\n",
      "           1       0.66      0.14      0.23     35947\n",
      "\n",
      "    accuracy                           0.82    185484\n",
      "   macro avg       0.75      0.56      0.56    185484\n",
      "weighted avg       0.79      0.82      0.77    185484\n",
      "\n",
      "<sklearn.metrics._plot.confusion_matrix.ConfusionMatrixDisplay object at 0x7ff27385bdc0>\n"
     ]
    },
    {
     "data": {
      "image/png": "[encoded data removed]",
      "text/plain": [
       "<Figure size 432x288 with 2 Axes>"
      ]
     },
     "metadata": {
      "needs_background": "light"
     },
     "output_type": "display_data"
    }
   ],
   "source": [
    "model = GradientBoostingClassifier()\n",
    "model.fit(features_train, labels_train)\n",
    "joblib.dump(model, \"data/Classifiers/GradientBoostingClassifier.joblib\")\n",
    "#model = joblib.load(\"data/Classifiers/GradientBoostingClassifier.joblib\")\n",
    "model_pred = model.predict(features_test)\n",
    "# print(confusion_matrix(labels_test, model_pred))\n",
    "print(classification_report(labels_test, model_pred))\n",
    "conf_mat_plot = plot_confusion_matrix(model, features_test, labels_test)\n",
    "plt.title(\"Gradient Boosting Classifier (XGBoost) with All Features\")\n",
    "print(conf_mat_plot)\n",
    "plt.savefig(\"data/Img/05_06_GradientBoost\")"
   ]
  },
  {
   "cell_type": "markdown",
   "id": "317a561c-7e0f-435f-856e-bf97c4c00a77",
   "metadata": {},
   "source": [
    "## Random Forest with All Features"
   ]
  },
  {
   "cell_type": "code",
   "execution_count": 53,
   "id": "90e5911b-1c3e-4581-bdd1-0d55d8fc2335",
   "metadata": {
    "tags": []
   },
   "outputs": [
    {
     "name": "stdout",
     "output_type": "stream",
     "text": [
      "[[145058   4479]\n",
      " [ 29043   6904]]\n",
      "              precision    recall  f1-score   support\n",
      "\n",
      "           0       0.83      0.97      0.90    149537\n",
      "           1       0.61      0.19      0.29     35947\n",
      "\n",
      "    accuracy                           0.82    185484\n",
      "   macro avg       0.72      0.58      0.59    185484\n",
      "weighted avg       0.79      0.82      0.78    185484\n",
      "\n",
      "<sklearn.metrics._plot.confusion_matrix.ConfusionMatrixDisplay object at 0x7ff271f2b400>\n"
     ]
    },
    {
     "data": {
      "image/png": "[encoded data removed]",
      "text/plain": [
       "<Figure size 432x288 with 2 Axes>"
      ]
     },
     "metadata": {
      "needs_background": "light"
     },
     "output_type": "display_data"
    }
   ],
   "source": [
    "model = RandomForestClassifier(n_estimators = 500, n_jobs=-1)\n",
    "model.fit(features_train, labels_train)\n",
    "joblib.dump(model, \"data/Classifiers/RandomForestClassifier.joblib\")\n",
    "#model = joblib.load(\"data/Classifiers/RandomForestClassifier.joblib\")\n",
    "model_pred = model.predict(features_test)\n",
    "print(confusion_matrix(labels_test, model_pred))\n",
    "print(classification_report(labels_test, model_pred))\n",
    "conf_mat_plot = plot_confusion_matrix(model, features_test, labels_test)\n",
    "plt.title(\"Random Forest Classifier with All Features\")\n",
    "print(conf_mat_plot)\n",
    "plt.savefig(\"data/Img/05_08_RFC_Confusion_Matrix\")\n",
    "del model\n",
    "del model_pred"
   ]
  },
  {
   "cell_type": "markdown",
   "id": "066f4a75-7857-4752-9575-0d872dd40beb",
   "metadata": {},
   "source": [
    "## Extra Trees with All Features"
   ]
  },
  {
   "cell_type": "code",
   "execution_count": 54,
   "id": "ca136381-3aa3-41dc-ba4c-9fde0b0136cf",
   "metadata": {
    "tags": []
   },
   "outputs": [
    {
     "name": "stdout",
     "output_type": "stream",
     "text": [
      "[[142875   6662]\n",
      " [ 28468   7479]]\n",
      "              precision    recall  f1-score   support\n",
      "\n",
      "           0       0.83      0.96      0.89    149537\n",
      "           1       0.53      0.21      0.30     35947\n",
      "\n",
      "    accuracy                           0.81    185484\n",
      "   macro avg       0.68      0.58      0.59    185484\n",
      "weighted avg       0.77      0.81      0.78    185484\n",
      "\n",
      "<sklearn.metrics._plot.confusion_matrix.ConfusionMatrixDisplay object at 0x7ff2737d4310>\n"
     ]
    },
    {
     "data": {
      "image/png": "[encoded data removed]",
      "text/plain": [
       "<Figure size 432x288 with 2 Axes>"
      ]
     },
     "metadata": {
      "needs_background": "light"
     },
     "output_type": "display_data"
    }
   ],
   "source": [
    "model = ExtraTreesClassifier(n_jobs=-1,n_estimators = 500)\n",
    "model.fit(features_train, labels_train)\n",
    "joblib.dump(model, \"data/Classifiers/ExtraTreesClassifier.joblib\")\n",
    "# model = joblib.load(\"./Classifiers/ExtraTreesClassifier.joblib\")\n",
    "model_pred = model.predict(features_test)\n",
    "print(confusion_matrix(labels_test, model_pred))\n",
    "print(classification_report(labels_test, model_pred))\n",
    "conf_mat_plot = plot_confusion_matrix(model, features_test, labels_test)\n",
    "plt.title(\"Extra Trees Classifier with All Features\")\n",
    "print(conf_mat_plot)\n",
    "plt.savefig(\"data/Img/05_09_ETC_Confusion_Matrix\")"
   ]
  },
  {
   "cell_type": "code",
   "execution_count": 55,
   "id": "e59e72c9-59f8-4721-b600-b13fc8d5db63",
   "metadata": {},
   "outputs": [],
   "source": [
    "# Setup\n",
    "perf_df = pd.DataFrame(columns=[\"classifiers\", \"fpr\", \"tpr\", \"auc\"])\n",
    "\n",
    "# Handling Extra Trees Classifier separately due to memory constraints\n",
    "fpr, tpr, _ = roc_curve(labels_test,  model_pred)\n",
    "auc = roc_auc_score(labels_test, model_pred)\n",
    "# Record the results\n",
    "perf_df = perf_df.append({\"classifiers\": \"ExtraTreesClassifier\",\n",
    "                                        \"fpr\": fpr, \n",
    "                                        \"tpr\": tpr, \n",
    "                                        \"auc\": auc}, ignore_index=True)\n",
    "del model\n",
    "del model_pred\n",
    "\n",
    "classifiers = [\"LogisticRegression\", \"DecisionTreeClassifier\", \"GradientBoostingClassifier\", \"RandomForestClassifier\"]\n",
    "for clf in classifiers:\n",
    "    # Load the trained classifiers\n",
    "    model = joblib.load(f\"data/Classifiers/{clf}.joblib\")\n",
    "    model_pred = model.predict(features_test)\n",
    "    fpr, tpr, _ = roc_curve(labels_test,  model_pred)\n",
    "    auc = roc_auc_score(labels_test, model_pred)\n",
    "    # Record the results\n",
    "    perf_df = perf_df.append({\"classifiers\": clf,\n",
    "                                        \"fpr\": fpr, \n",
    "                                        \"tpr\": tpr, \n",
    "                                        \"auc\": auc}, ignore_index=True)\n",
    "    del model\n",
    "    del model_pred\n",
    "\n",
    "# Set name of the classifiers as index labels\n",
    "perf_df.set_index(\"classifiers\", inplace=True)"
   ]
  },
  {
   "cell_type": "code",
   "execution_count": 56,
   "id": "42d59df1-ae04-4d06-b46b-06f785f6c076",
   "metadata": {},
   "outputs": [
    {
     "data": {
      "image/png": "[encoded data removed]",
      "text/plain": [
       "<Figure size 640x480 with 1 Axes>"
      ]
     },
     "metadata": {
      "needs_background": "light"
     },
     "output_type": "display_data"
    }
   ],
   "source": [
    "fig = plt.figure(figsize=(8,6), dpi=80)\n",
    "for clf_name in perf_df.index:\n",
    "    plt.plot(perf_df.loc[clf_name][\"fpr\"], \n",
    "             perf_df.loc[clf_name][\"tpr\"], \n",
    "             label=\"{}, AUC={:.3f}\".format(clf_name, perf_df.loc[clf_name][\"auc\"]))\n",
    "    \n",
    "plt.plot([0,1], [0,1], color='orange', linestyle='--')\n",
    "\n",
    "plt.xticks(np.arange(0.0, 1.1, step=0.1))\n",
    "plt.xlabel(\"False Positive Rate\", fontsize=15)\n",
    "\n",
    "plt.yticks(np.arange(0.0, 1.1, step=0.1))\n",
    "plt.ylabel(\"True Positive Rate\", fontsize=15)\n",
    "\n",
    "plt.title(\"ROC AUC Analysis\", fontweight=\"bold\", fontsize=15)\n",
    "plt.legend(prop={\"size\":13}, loc=\"lower right\")\n",
    "\n",
    "plt.show()\n",
    "fig.savefig(\"data/Img/05_10_Classifiers_ROC_AUC.png\")"
   ]
  },
  {
   "cell_type": "markdown",
   "id": "cbd2ced9-d324-45d0-b7b5-ccd94d3f1166",
   "metadata": {},
   "source": [
    "## Conclusion\n",
    "\n",
    "We saw very different results when comparing all airports, LaGuardia only and Douglas Municipal only! Over all US airports weather does not provide a strong prediction of flight delays. However, when we drill down to specific airports we see that this is because of the variation in importance by airport. Weather is predictive at LaGuardia in New York, but barely predictive at Douglas Municipal in Arizona. \n",
    "\n",
    "Our orginal hypothesis in Phase 1, was that we may see that weather had varying levels of importance in different locations. We learned that that was in fact correct. The variance in weather's importance makes large scale predictions of delays across all of the US challenging. When comparing to other projects online this made sense. Those able to make strong predictions either focused on one city or incorporated very strong indicators of delay (incoming flight delay). \n",
    "\n",
    "We expected that weather prediction would be an important factor in this project, but when performing the classification we found that weather prediction was not in fact the most important factor. Thus, we focused our analysis on attempting different models and incorporating additional features rather than on predicting weather as we expected. In contrast with what we expected, the more important usage of our data would be to look into the non-weather causes of delays because, unlike the weather, they lay in the hands of aviation industry leaders. For example, we see that Plane Age is a consistently important feature in departure delays - both when looking at individual airports and when looking at all US airports. That indicates a new hypothesis. Are older planes associated with large numbers of delays because of mechanical issues? Maybe, instead of checking the weather before a flight to determine a delay we should be considering the age of the plane! If that is the case, airline leaders may be able to improve delays by focusing on the mechanical issues associated with older planes.\n",
    "\n",
    "There are also limitations in our approach. Looking at a single airport to improve accuracy is less efficient than looking at all airports together. We also are limited in the data we used. There are more potential data points (such as previous flight delay, additional weather data not available in our dataset) that can be incorporated to improve accuracy. "
   ]
  },
  {
   "cell_type": "code",
   "execution_count": null,
   "id": "20ceaf42-ddb0-4e13-bf2d-f9d0a0c794ba",
   "metadata": {},
   "outputs": [],
   "source": []
  }
 ],
 "metadata": {
  "colab": {
   "provenance": []
  },
  "kernelspec": {
   "display_name": "Python 3 (ipykernel)",
   "language": "python",
   "name": "python3"
  },
  "language_info": {
   "codemirror_mode": {
    "name": "ipython",
    "version": 3
   },
   "file_extension": ".py",
   "mimetype": "text/x-python",
   "name": "python",
   "nbconvert_exporter": "python",
   "pygments_lexer": "ipython3",
   "version": "3.9.12"
  }
 },
 "nbformat": 4,
 "nbformat_minor": 5
}
