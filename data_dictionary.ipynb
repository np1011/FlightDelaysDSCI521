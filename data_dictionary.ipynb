{
 "cells": [
  {
   "cell_type": "markdown",
   "id": "c0a72191-2a92-4a30-b6df-c34467093e32",
   "metadata": {},
   "source": [
    "### **DATA DICTIONARY**\n",
    "\n",
    "\n",
    "- **MONTH** - Month\n",
    "- **DAY_OF_WEEK** - Day of Week\n",
    "- **DEP_DEL15** - TARGET Binary of a departure delay over 15 minutes (1 is yes, 0 is no)\n",
    "- **DISTANCE_GROUP** - Distance group to be flown by departing aircraft\n",
    "- **DEP_BLOCK** - Departure block\n",
    "- **SEGMENT_NUMBER** - The segment that this tail number is on for the day\n",
    "- **CONCURRENT_FLIGHTS** - Concurrent flights leaving from the airport in the same departure block\n",
    "- **NUMBER_OF_SEATS** - Number of seats on the aircraft\n",
    "- **CARRIER_NAME** - Carrier (airline name)\n",
    "- **AIRPORT_FLIGHTS_MONTH** - Avg Airport Flights per Month\n",
    "- **AIRLINE_FLIGHTS_MONTH** - Avg Airline Flights per Month\n",
    "- **AIRLINE_AIRPORT_FLIGHTS_MONTH** - Avg Flights per month for Airline AND Airport\n",
    "- **AVG_MONTHLY_PASS_AIRPORT** - Avg Passengers for the departing airport for the month\n",
    "- **AVG_MONTHLY_PASS_AIRLINE** - Avg Passengers for airline for month\n",
    "- **FLT_ATTENDANTS_PER_PASS** - Flight attendants per passenger for airline\n",
    "- **GROUND_SERV_PER_PASS** - Ground service employees (service desk) per passenger for airline\n",
    "- **PLANE_AGE** - Age of departing aircraft\n",
    "- **DEPARTING_AIRPORT** - Departing Airport\n",
    "- **LATITUDE** - Latitude of departing airport\n",
    "- **LONGITUDE** - Longitude of departing airport\n",
    "- **PREVIOUS_AIRPORT** - Previous airport that aircraft departed from\n",
    "- **PRCP** - Inches of precipitation for day\n",
    "- **SNOW** - Inches of snowfall for day\n",
    "- **SNWD** - Inches of snow on ground for day\n",
    "- **TMAX** - Max temperature for day\n",
    "- **AWND** - Max wind speed for day\n",
    "- **TMAX** - max temp\n",
    "- **TAVG** - average temp\n",
    "- **TMIN** - min temp\n",
    "- **WT01** - fog\n",
    "- **WT02** - heavy or heavy freezing fog\n",
    "- **WT03** - thunder\n",
    "- **WT05** - hail\n",
    "- **WT07** - blowing dust, sand or other obstruction\n",
    "- **WT08** - smoke or haze\n",
    "- **WT09** - blowing or drifting snow\n",
    "- **WT10** - tornado, waterspout or funnel cloud\n",
    "- **WT11** - high or damaging winds"
   ]
  }
 ],
 "metadata": {
  "kernelspec": {
   "display_name": "Python 3 (ipykernel)",
   "language": "python",
   "name": "python3"
  },
  "language_info": {
   "codemirror_mode": {
    "name": "ipython",
    "version": 3
   },
   "file_extension": ".py",
   "mimetype": "text/x-python",
   "name": "python",
   "nbconvert_exporter": "python",
   "pygments_lexer": "ipython3",
   "version": "3.9.12"
  }
 },
 "nbformat": 4,
 "nbformat_minor": 5
}
