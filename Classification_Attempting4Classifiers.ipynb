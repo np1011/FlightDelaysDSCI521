{
 "cells": [
  {
   "cell_type": "markdown",
   "id": "loTopIBZluND",
   "metadata": {
    "id": "loTopIBZluND"
   },
   "source": [
    "# Classifying Flight Delay Data Using: Logistic Regression, Decision Tree, Extra Trees, Gradient Boosting and Random Forest Classifiers\n",
    "\n",
    "# Group 7"
   ]
  },
  {
   "cell_type": "markdown",
   "id": "3hyHtiPf3G4a",
   "metadata": {
    "id": "3hyHtiPf3G4a"
   },
   "source": [
    "## Overview\n",
    "\n",
    "Dataset obtained from Kaggle :\n",
    "https://www.kaggle.com/datasets/threnjen/2019-airline-delays-and-cancellations?select=train_sets_documentation.txt\n",
    "\n",
    "Dataset contains information on flights occurring in 2019, with statistics on flight delay, carrier and airport information and weather data.\n",
    "\n",
    "Classifier selection and process guided by https://github.com/nive927/Flight_Delay_Prediction/blob/main/05_Classification.ipynb"
   ]
  },
  {
   "cell_type": "markdown",
   "id": "4XEYeSIysG7M",
   "metadata": {
    "id": "4XEYeSIysG7M"
   },
   "source": [
    "# **Load Adjusted Dataset**\n",
    "\n",
    "The original dataset on Kaggle removed a large amount of weather data during the final data cleaning steps. In order to improve our weather based predictions we re-ran the data collection process and re-included removed data points."
   ]
  },
  {
   "cell_type": "markdown",
   "id": "MaIXVyRlsq8J",
   "metadata": {
    "id": "MaIXVyRlsq8J"
   },
   "source": [
    "### Preview of available data"
   ]
  },
  {
   "cell_type": "code",
   "execution_count": 3,
   "id": "eb7c6230-dae3-4cf9-936c-edce2cad35c6",
   "metadata": {
    "colab": {
     "base_uri": "https://localhost:8080/",
     "height": 389
    },
    "id": "eb7c6230-dae3-4cf9-936c-edce2cad35c6",
    "outputId": "5b77ac58-9e12-498e-db7a-d47715ba86f7",
    "tags": []
   },
   "outputs": [],
   "source": [
    "#load data into pandas\n",
    "\n",
    "# importing the module\n",
    "import pandas as pd\n",
    "\n",
    "flight_data = pd.read_csv('data/train.csv')"
   ]
  },
  {
   "cell_type": "code",
   "execution_count": 4,
   "id": "eff54b89-2ddb-4319-a9d9-940e27b13cfb",
   "metadata": {
    "colab": {
     "base_uri": "https://localhost:8080/",
     "height": 421
    },
    "id": "eff54b89-2ddb-4319-a9d9-940e27b13cfb",
    "outputId": "08966478-c0d8-4fc0-836b-9e2bbbf0a9a9",
    "tags": []
   },
   "outputs": [
    {
     "data": {
      "text/html": [
       "<div>\n",
       "<style scoped>\n",
       "    .dataframe tbody tr th:only-of-type {\n",
       "        vertical-align: middle;\n",
       "    }\n",
       "\n",
       "    .dataframe tbody tr th {\n",
       "        vertical-align: top;\n",
       "    }\n",
       "\n",
       "    .dataframe thead th {\n",
       "        text-align: right;\n",
       "    }\n",
       "</style>\n",
       "<table border=\"1\" class=\"dataframe\">\n",
       "  <thead>\n",
       "    <tr style=\"text-align: right;\">\n",
       "      <th></th>\n",
       "      <th>MONTH</th>\n",
       "      <th>DAY_OF_WEEK</th>\n",
       "      <th>DEP_DEL15</th>\n",
       "      <th>DEP_TIME_BLK</th>\n",
       "      <th>DISTANCE_GROUP</th>\n",
       "      <th>SEGMENT_NUMBER</th>\n",
       "      <th>CONCURRENT_FLIGHTS</th>\n",
       "      <th>NUMBER_OF_SEATS</th>\n",
       "      <th>CARRIER_NAME</th>\n",
       "      <th>AIRPORT_FLIGHTS_MONTH</th>\n",
       "      <th>AIRLINE_FLIGHTS_MONTH</th>\n",
       "      <th>AIRLINE_AIRPORT_FLIGHTS_MONTH</th>\n",
       "      <th>AVG_MONTHLY_PASS_AIRPORT</th>\n",
       "      <th>AVG_MONTHLY_PASS_AIRLINE</th>\n",
       "      <th>FLT_ATTENDANTS_PER_PASS</th>\n",
       "      <th>GROUND_SERV_PER_PASS</th>\n",
       "      <th>PLANE_AGE</th>\n",
       "      <th>DEPARTING_AIRPORT</th>\n",
       "      <th>LATITUDE</th>\n",
       "      <th>LONGITUDE</th>\n",
       "      <th>PREVIOUS_AIRPORT</th>\n",
       "      <th>PRCP</th>\n",
       "      <th>SNOW</th>\n",
       "      <th>SNWD</th>\n",
       "      <th>TMAX</th>\n",
       "      <th>AWND</th>\n",
       "      <th>TAVG</th>\n",
       "      <th>TMIN</th>\n",
       "      <th>WT01</th>\n",
       "      <th>WT02</th>\n",
       "      <th>WT03</th>\n",
       "      <th>WT05</th>\n",
       "      <th>WT07</th>\n",
       "      <th>WT08</th>\n",
       "      <th>WT09</th>\n",
       "      <th>WT10</th>\n",
       "      <th>WT11</th>\n",
       "      <th>CARRIER_HISTORICAL</th>\n",
       "      <th>DEP_AIRPORT_HIST</th>\n",
       "      <th>DAY_HISTORICAL</th>\n",
       "      <th>DEP_BLOCK_HIST</th>\n",
       "    </tr>\n",
       "  </thead>\n",
       "  <tbody>\n",
       "    <tr>\n",
       "      <th>0</th>\n",
       "      <td>7</td>\n",
       "      <td>7</td>\n",
       "      <td>0</td>\n",
       "      <td>1500-1559</td>\n",
       "      <td>3</td>\n",
       "      <td>3</td>\n",
       "      <td>26</td>\n",
       "      <td>160</td>\n",
       "      <td>American Airlines Inc.</td>\n",
       "      <td>19534</td>\n",
       "      <td>79247</td>\n",
       "      <td>7972</td>\n",
       "      <td>2006675</td>\n",
       "      <td>11744595</td>\n",
       "      <td>0.000098</td>\n",
       "      <td>0.000177</td>\n",
       "      <td>6</td>\n",
       "      <td>Douglas Municipal</td>\n",
       "      <td>35.219</td>\n",
       "      <td>-80.936</td>\n",
       "      <td>Chicago O'Hare International</td>\n",
       "      <td>0.00</td>\n",
       "      <td>0.0</td>\n",
       "      <td>0.0</td>\n",
       "      <td>95.0</td>\n",
       "      <td>4.25</td>\n",
       "      <td>83.0</td>\n",
       "      <td>75.0</td>\n",
       "      <td>1.0</td>\n",
       "      <td>0.0</td>\n",
       "      <td>0.0</td>\n",
       "      <td>0.0</td>\n",
       "      <td>0.0</td>\n",
       "      <td>1.0</td>\n",
       "      <td>0.0</td>\n",
       "      <td>0.0</td>\n",
       "      <td>0.0</td>\n",
       "      <td>0.237709</td>\n",
       "      <td>0.273236</td>\n",
       "      <td>0.222538</td>\n",
       "      <td>0.255479</td>\n",
       "    </tr>\n",
       "    <tr>\n",
       "      <th>1</th>\n",
       "      <td>4</td>\n",
       "      <td>1</td>\n",
       "      <td>0</td>\n",
       "      <td>1300-1359</td>\n",
       "      <td>4</td>\n",
       "      <td>4</td>\n",
       "      <td>63</td>\n",
       "      <td>50</td>\n",
       "      <td>SkyWest Airlines Inc.</td>\n",
       "      <td>18788</td>\n",
       "      <td>67082</td>\n",
       "      <td>3655</td>\n",
       "      <td>2743323</td>\n",
       "      <td>3472966</td>\n",
       "      <td>0.000034</td>\n",
       "      <td>0.000099</td>\n",
       "      <td>15</td>\n",
       "      <td>Stapleton International</td>\n",
       "      <td>39.774</td>\n",
       "      <td>-104.880</td>\n",
       "      <td>El Paso International</td>\n",
       "      <td>0.00</td>\n",
       "      <td>0.0</td>\n",
       "      <td>0.0</td>\n",
       "      <td>71.0</td>\n",
       "      <td>11.41</td>\n",
       "      <td>57.0</td>\n",
       "      <td>39.0</td>\n",
       "      <td>0.0</td>\n",
       "      <td>0.0</td>\n",
       "      <td>0.0</td>\n",
       "      <td>0.0</td>\n",
       "      <td>0.0</td>\n",
       "      <td>0.0</td>\n",
       "      <td>0.0</td>\n",
       "      <td>0.0</td>\n",
       "      <td>0.0</td>\n",
       "      <td>0.154651</td>\n",
       "      <td>0.121849</td>\n",
       "      <td>0.237972</td>\n",
       "      <td>0.197503</td>\n",
       "    </tr>\n",
       "    <tr>\n",
       "      <th>2</th>\n",
       "      <td>11</td>\n",
       "      <td>4</td>\n",
       "      <td>0</td>\n",
       "      <td>0001-0559</td>\n",
       "      <td>2</td>\n",
       "      <td>1</td>\n",
       "      <td>3</td>\n",
       "      <td>76</td>\n",
       "      <td>American Eagle Airlines Inc.</td>\n",
       "      <td>1148</td>\n",
       "      <td>25517</td>\n",
       "      <td>300</td>\n",
       "      <td>90547</td>\n",
       "      <td>1204766</td>\n",
       "      <td>0.000348</td>\n",
       "      <td>0.000107</td>\n",
       "      <td>3</td>\n",
       "      <td>Adams Field</td>\n",
       "      <td>34.729</td>\n",
       "      <td>-92.234</td>\n",
       "      <td>NONE</td>\n",
       "      <td>0.00</td>\n",
       "      <td>0.0</td>\n",
       "      <td>0.0</td>\n",
       "      <td>54.0</td>\n",
       "      <td>0.45</td>\n",
       "      <td>0.0</td>\n",
       "      <td>29.0</td>\n",
       "      <td>0.0</td>\n",
       "      <td>0.0</td>\n",
       "      <td>0.0</td>\n",
       "      <td>0.0</td>\n",
       "      <td>0.0</td>\n",
       "      <td>0.0</td>\n",
       "      <td>0.0</td>\n",
       "      <td>0.0</td>\n",
       "      <td>0.0</td>\n",
       "      <td>0.117559</td>\n",
       "      <td>0.187867</td>\n",
       "      <td>0.139886</td>\n",
       "      <td>0.060327</td>\n",
       "    </tr>\n",
       "    <tr>\n",
       "      <th>3</th>\n",
       "      <td>3</td>\n",
       "      <td>2</td>\n",
       "      <td>0</td>\n",
       "      <td>1500-1559</td>\n",
       "      <td>7</td>\n",
       "      <td>5</td>\n",
       "      <td>14</td>\n",
       "      <td>143</td>\n",
       "      <td>Southwest Airlines Co.</td>\n",
       "      <td>7612</td>\n",
       "      <td>114119</td>\n",
       "      <td>3282</td>\n",
       "      <td>1023434</td>\n",
       "      <td>13382999</td>\n",
       "      <td>0.000062</td>\n",
       "      <td>0.000099</td>\n",
       "      <td>19</td>\n",
       "      <td>San Diego International Lindbergh Fl</td>\n",
       "      <td>32.733</td>\n",
       "      <td>-117.187</td>\n",
       "      <td>San Jose International</td>\n",
       "      <td>0.00</td>\n",
       "      <td>0.0</td>\n",
       "      <td>0.0</td>\n",
       "      <td>64.0</td>\n",
       "      <td>8.05</td>\n",
       "      <td>60.0</td>\n",
       "      <td>56.0</td>\n",
       "      <td>1.0</td>\n",
       "      <td>0.0</td>\n",
       "      <td>0.0</td>\n",
       "      <td>0.0</td>\n",
       "      <td>0.0</td>\n",
       "      <td>1.0</td>\n",
       "      <td>0.0</td>\n",
       "      <td>0.0</td>\n",
       "      <td>0.0</td>\n",
       "      <td>0.204389</td>\n",
       "      <td>0.141446</td>\n",
       "      <td>0.132868</td>\n",
       "      <td>0.202037</td>\n",
       "    </tr>\n",
       "    <tr>\n",
       "      <th>4</th>\n",
       "      <td>7</td>\n",
       "      <td>3</td>\n",
       "      <td>0</td>\n",
       "      <td>0800-0859</td>\n",
       "      <td>1</td>\n",
       "      <td>2</td>\n",
       "      <td>85</td>\n",
       "      <td>50</td>\n",
       "      <td>American Eagle Airlines Inc.</td>\n",
       "      <td>29376</td>\n",
       "      <td>28267</td>\n",
       "      <td>6058</td>\n",
       "      <td>3103410</td>\n",
       "      <td>1204766</td>\n",
       "      <td>0.000348</td>\n",
       "      <td>0.000107</td>\n",
       "      <td>15</td>\n",
       "      <td>Chicago O'Hare International</td>\n",
       "      <td>41.978</td>\n",
       "      <td>-87.906</td>\n",
       "      <td>Cincinnati/Northern Kentucky International</td>\n",
       "      <td>0.01</td>\n",
       "      <td>0.0</td>\n",
       "      <td>0.0</td>\n",
       "      <td>94.0</td>\n",
       "      <td>10.51</td>\n",
       "      <td>83.0</td>\n",
       "      <td>75.0</td>\n",
       "      <td>0.0</td>\n",
       "      <td>0.0</td>\n",
       "      <td>0.0</td>\n",
       "      <td>0.0</td>\n",
       "      <td>0.0</td>\n",
       "      <td>0.0</td>\n",
       "      <td>0.0</td>\n",
       "      <td>0.0</td>\n",
       "      <td>0.0</td>\n",
       "      <td>0.203263</td>\n",
       "      <td>0.193761</td>\n",
       "      <td>0.203027</td>\n",
       "      <td>0.113050</td>\n",
       "    </tr>\n",
       "  </tbody>\n",
       "</table>\n",
       "</div>"
      ],
      "text/plain": [
       "   MONTH  DAY_OF_WEEK  DEP_DEL15 DEP_TIME_BLK  DISTANCE_GROUP  SEGMENT_NUMBER  \\\n",
       "0      7            7          0    1500-1559               3               3   \n",
       "1      4            1          0    1300-1359               4               4   \n",
       "2     11            4          0    0001-0559               2               1   \n",
       "3      3            2          0    1500-1559               7               5   \n",
       "4      7            3          0    0800-0859               1               2   \n",
       "\n",
       "   CONCURRENT_FLIGHTS  NUMBER_OF_SEATS                  CARRIER_NAME  \\\n",
       "0                  26              160        American Airlines Inc.   \n",
       "1                  63               50         SkyWest Airlines Inc.   \n",
       "2                   3               76  American Eagle Airlines Inc.   \n",
       "3                  14              143        Southwest Airlines Co.   \n",
       "4                  85               50  American Eagle Airlines Inc.   \n",
       "\n",
       "   AIRPORT_FLIGHTS_MONTH  AIRLINE_FLIGHTS_MONTH  \\\n",
       "0                  19534                  79247   \n",
       "1                  18788                  67082   \n",
       "2                   1148                  25517   \n",
       "3                   7612                 114119   \n",
       "4                  29376                  28267   \n",
       "\n",
       "   AIRLINE_AIRPORT_FLIGHTS_MONTH  AVG_MONTHLY_PASS_AIRPORT  \\\n",
       "0                           7972                   2006675   \n",
       "1                           3655                   2743323   \n",
       "2                            300                     90547   \n",
       "3                           3282                   1023434   \n",
       "4                           6058                   3103410   \n",
       "\n",
       "   AVG_MONTHLY_PASS_AIRLINE  FLT_ATTENDANTS_PER_PASS  GROUND_SERV_PER_PASS  \\\n",
       "0                  11744595                 0.000098              0.000177   \n",
       "1                   3472966                 0.000034              0.000099   \n",
       "2                   1204766                 0.000348              0.000107   \n",
       "3                  13382999                 0.000062              0.000099   \n",
       "4                   1204766                 0.000348              0.000107   \n",
       "\n",
       "   PLANE_AGE                     DEPARTING_AIRPORT  LATITUDE  LONGITUDE  \\\n",
       "0          6                     Douglas Municipal    35.219    -80.936   \n",
       "1         15               Stapleton International    39.774   -104.880   \n",
       "2          3                           Adams Field    34.729    -92.234   \n",
       "3         19  San Diego International Lindbergh Fl    32.733   -117.187   \n",
       "4         15          Chicago O'Hare International    41.978    -87.906   \n",
       "\n",
       "                             PREVIOUS_AIRPORT  PRCP  SNOW  SNWD  TMAX   AWND  \\\n",
       "0                Chicago O'Hare International  0.00   0.0   0.0  95.0   4.25   \n",
       "1                       El Paso International  0.00   0.0   0.0  71.0  11.41   \n",
       "2                                        NONE  0.00   0.0   0.0  54.0   0.45   \n",
       "3                      San Jose International  0.00   0.0   0.0  64.0   8.05   \n",
       "4  Cincinnati/Northern Kentucky International  0.01   0.0   0.0  94.0  10.51   \n",
       "\n",
       "   TAVG  TMIN  WT01  WT02  WT03  WT05  WT07  WT08  WT09  WT10  WT11  \\\n",
       "0  83.0  75.0   1.0   0.0   0.0   0.0   0.0   1.0   0.0   0.0   0.0   \n",
       "1  57.0  39.0   0.0   0.0   0.0   0.0   0.0   0.0   0.0   0.0   0.0   \n",
       "2   0.0  29.0   0.0   0.0   0.0   0.0   0.0   0.0   0.0   0.0   0.0   \n",
       "3  60.0  56.0   1.0   0.0   0.0   0.0   0.0   1.0   0.0   0.0   0.0   \n",
       "4  83.0  75.0   0.0   0.0   0.0   0.0   0.0   0.0   0.0   0.0   0.0   \n",
       "\n",
       "   CARRIER_HISTORICAL  DEP_AIRPORT_HIST  DAY_HISTORICAL  DEP_BLOCK_HIST  \n",
       "0            0.237709          0.273236        0.222538        0.255479  \n",
       "1            0.154651          0.121849        0.237972        0.197503  \n",
       "2            0.117559          0.187867        0.139886        0.060327  \n",
       "3            0.204389          0.141446        0.132868        0.202037  \n",
       "4            0.203263          0.193761        0.203027        0.113050  "
      ]
     },
     "execution_count": 4,
     "metadata": {},
     "output_type": "execute_result"
    }
   ],
   "source": [
    "pd.set_option('display.max_columns', None)\n",
    "flight_data.head() #display sample dataframe"
   ]
  },
  {
   "cell_type": "code",
   "execution_count": 5,
   "id": "1bf7a51e-6e98-4fee-87ce-6119b377710c",
   "metadata": {
    "colab": {
     "base_uri": "https://localhost:8080/"
    },
    "id": "1bf7a51e-6e98-4fee-87ce-6119b377710c",
    "outputId": "dd3506a1-b370-4dde-94a7-06baac16f31e",
    "tags": []
   },
   "outputs": [
    {
     "name": "stdout",
     "output_type": "stream",
     "text": [
      "Available data points within dataset:\n",
      "MONTH\n",
      "DAY_OF_WEEK\n",
      "DEP_DEL15\n",
      "DEP_TIME_BLK\n",
      "DISTANCE_GROUP\n",
      "SEGMENT_NUMBER\n",
      "CONCURRENT_FLIGHTS\n",
      "NUMBER_OF_SEATS\n",
      "CARRIER_NAME\n",
      "AIRPORT_FLIGHTS_MONTH\n",
      "AIRLINE_FLIGHTS_MONTH\n",
      "AIRLINE_AIRPORT_FLIGHTS_MONTH\n",
      "AVG_MONTHLY_PASS_AIRPORT\n",
      "AVG_MONTHLY_PASS_AIRLINE\n",
      "FLT_ATTENDANTS_PER_PASS\n",
      "GROUND_SERV_PER_PASS\n",
      "PLANE_AGE\n",
      "DEPARTING_AIRPORT\n",
      "LATITUDE\n",
      "LONGITUDE\n",
      "PREVIOUS_AIRPORT\n",
      "PRCP\n",
      "SNOW\n",
      "SNWD\n",
      "TMAX\n",
      "AWND\n",
      "TAVG\n",
      "TMIN\n",
      "WT01\n",
      "WT02\n",
      "WT03\n",
      "WT05\n",
      "WT07\n",
      "WT08\n",
      "WT09\n",
      "WT10\n",
      "WT11\n",
      "CARRIER_HISTORICAL\n",
      "DEP_AIRPORT_HIST\n",
      "DAY_HISTORICAL\n",
      "DEP_BLOCK_HIST\n"
     ]
    }
   ],
   "source": [
    "print(\"Available data points within dataset:\")\n",
    "for col in flight_data.columns: \n",
    "    print(col)"
   ]
  },
  {
   "cell_type": "markdown",
   "id": "Bcg8gdmGs878",
   "metadata": {
    "id": "Bcg8gdmGs878"
   },
   "source": [
    "Exploration of the major airlines covered by the data"
   ]
  },
  {
   "cell_type": "markdown",
   "id": "f27d3134-e8d4-40f9-ab8a-385ef13c941a",
   "metadata": {},
   "source": [
    "## Set up Environment"
   ]
  },
  {
   "cell_type": "code",
   "execution_count": 6,
   "id": "8a7a42dc-06ea-4307-9753-1b259c7e6ab9",
   "metadata": {},
   "outputs": [],
   "source": [
    "# Pre-requisites\n",
    "import pandas as pd\n",
    "import numpy as np\n",
    "import matplotlib\n",
    "import matplotlib.pyplot as plt\n",
    "import seaborn as sns\n",
    "\n",
    "# Store the classifier models to save time\n",
    "import joblib\n",
    "\n",
    "# Preprocessing\n",
    "from sklearn.preprocessing import LabelEncoder\n",
    "from sklearn.model_selection import train_test_split\n",
    "\n",
    "# Classifiers from scikit-learn\n",
    "from sklearn.linear_model import LogisticRegression\n",
    "from sklearn.tree import DecisionTreeClassifier\n",
    "from sklearn.ensemble import GradientBoostingClassifier\n",
    "from sklearn.ensemble import RandomForestClassifier\n",
    "from sklearn.ensemble import ExtraTreesClassifier\n",
    "\n",
    "# Performance metrics\n",
    "from sklearn.metrics import accuracy_score\n",
    "from sklearn.metrics import f1_score\n",
    "from sklearn.metrics import precision_score\n",
    "from sklearn.metrics import recall_score\n",
    "from sklearn.metrics import classification_report\n",
    "from sklearn.metrics import confusion_matrix\n",
    "from sklearn.metrics import plot_confusion_matrix\n",
    "\n",
    "from sklearn.metrics import roc_curve\n",
    "from sklearn.metrics import roc_auc_score\n",
    "\n",
    "from scipy.stats import pointbiserialr"
   ]
  },
  {
   "cell_type": "markdown",
   "id": "6a56a6eb-c960-4095-99d8-fe1fcc6f08e4",
   "metadata": {},
   "source": [
    "## Determine how many observations fall under each class \n",
    "### 0 : not delayed 1 : delayed"
   ]
  },
  {
   "cell_type": "code",
   "execution_count": 7,
   "id": "5a692149-bd68-4a69-92a6-c87c46cdea13",
   "metadata": {},
   "outputs": [
    {
     "data": {
      "image/png": "[encoded data removed]",
      "text/plain": [
       "<Figure size 432x288 with 1 Axes>"
      ]
     },
     "metadata": {
      "needs_background": "light"
     },
     "output_type": "display_data"
    },
    {
     "name": "stdout",
     "output_type": "stream",
     "text": [
      "0    3066926\n",
      "1     714601\n",
      "Name: DEP_DEL15, dtype: int64\n"
     ]
    }
   ],
   "source": [
    "# Plotting the percentage of observations that fall under each class\n",
    "ax = flight_data[\"DEP_DEL15\"].value_counts().sort_values().plot(kind=\"barh\", color=[\"r\", \"g\"])\n",
    "totals= []\n",
    "for i in ax.patches:\n",
    "    totals.append(i.get_width())\n",
    "total = sum(totals)\n",
    "for i in ax.patches:\n",
    "     ax.text(i.get_width()+.3, i.get_y()+.20, \n",
    "     str(round((i.get_width()/total)*100, 2))+'%', \n",
    "     fontsize=10, color='black')\n",
    "plt.title(\"DEP_DEL15\", fontsize=20)\n",
    "plt.xlabel(\"Count\", fontsize=14)\n",
    "plt.ylabel(\"Class\", fontsize=14)\n",
    "plt.show()\n",
    "print(flight_data[\"DEP_DEL15\"].value_counts())\n",
    "fig = ax.get_figure()"
   ]
  },
  {
   "cell_type": "markdown",
   "id": "7ae15a91-8e9f-436b-8189-11607db66abf",
   "metadata": {},
   "source": [
    "## Point Biserial Correlation for Quantitative, Continuous Features with DEP_DEL15\n",
    "\n",
    "A correlation coefficient measures the extent to which two variables tend to change together. The coefficient describes both the strength and the direction of the relationship.\n",
    "\n",
    "A point-biserial correlation is used to measure the strength and direction of the association that exists between one continuous variable and one dichotomous variable.  [Interpreting PBC](https://www.scalestatistics.com/point-biserial.html)\n",
    "\n",
    "We see that the highest correlation for DEP_DEL15 is with WTO3 (Thunder), PRCP (precipitation) and WT01 (fog)."
   ]
  },
  {
   "cell_type": "code",
   "execution_count": 8,
   "id": "9d4acd1a-4610-4bfc-8109-3c6438f67739",
   "metadata": {},
   "outputs": [
    {
     "data": {
      "text/html": [
       "<div>\n",
       "<style scoped>\n",
       "    .dataframe tbody tr th:only-of-type {\n",
       "        vertical-align: middle;\n",
       "    }\n",
       "\n",
       "    .dataframe tbody tr th {\n",
       "        vertical-align: top;\n",
       "    }\n",
       "\n",
       "    .dataframe thead th {\n",
       "        text-align: right;\n",
       "    }\n",
       "</style>\n",
       "<table border=\"1\" class=\"dataframe\">\n",
       "  <thead>\n",
       "    <tr style=\"text-align: right;\">\n",
       "      <th></th>\n",
       "      <th>Feature</th>\n",
       "      <th>CorrCoeff</th>\n",
       "      <th>pValue</th>\n",
       "    </tr>\n",
       "  </thead>\n",
       "  <tbody>\n",
       "    <tr>\n",
       "      <th>0</th>\n",
       "      <td>WT03</td>\n",
       "      <td>0.087747</td>\n",
       "      <td>0.000000e+00</td>\n",
       "    </tr>\n",
       "    <tr>\n",
       "      <th>1</th>\n",
       "      <td>PRCP</td>\n",
       "      <td>0.080137</td>\n",
       "      <td>0.000000e+00</td>\n",
       "    </tr>\n",
       "    <tr>\n",
       "      <th>2</th>\n",
       "      <td>WT01</td>\n",
       "      <td>0.068952</td>\n",
       "      <td>0.000000e+00</td>\n",
       "    </tr>\n",
       "    <tr>\n",
       "      <th>3</th>\n",
       "      <td>AWND</td>\n",
       "      <td>0.050673</td>\n",
       "      <td>0.000000e+00</td>\n",
       "    </tr>\n",
       "    <tr>\n",
       "      <th>4</th>\n",
       "      <td>SNOW</td>\n",
       "      <td>0.050223</td>\n",
       "      <td>0.000000e+00</td>\n",
       "    </tr>\n",
       "    <tr>\n",
       "      <th>5</th>\n",
       "      <td>WT02</td>\n",
       "      <td>0.026787</td>\n",
       "      <td>0.000000e+00</td>\n",
       "    </tr>\n",
       "    <tr>\n",
       "      <th>6</th>\n",
       "      <td>SNWD</td>\n",
       "      <td>0.026357</td>\n",
       "      <td>0.000000e+00</td>\n",
       "    </tr>\n",
       "    <tr>\n",
       "      <th>7</th>\n",
       "      <td>WT09</td>\n",
       "      <td>0.021574</td>\n",
       "      <td>0.000000e+00</td>\n",
       "    </tr>\n",
       "    <tr>\n",
       "      <th>8</th>\n",
       "      <td>WT05</td>\n",
       "      <td>0.017079</td>\n",
       "      <td>6.493422e-242</td>\n",
       "    </tr>\n",
       "    <tr>\n",
       "      <th>9</th>\n",
       "      <td>WT08</td>\n",
       "      <td>0.016897</td>\n",
       "      <td>8.224131e-237</td>\n",
       "    </tr>\n",
       "    <tr>\n",
       "      <th>10</th>\n",
       "      <td>TMIN</td>\n",
       "      <td>0.006386</td>\n",
       "      <td>2.084835e-35</td>\n",
       "    </tr>\n",
       "    <tr>\n",
       "      <th>11</th>\n",
       "      <td>TAVG</td>\n",
       "      <td>0.002430</td>\n",
       "      <td>2.294342e-06</td>\n",
       "    </tr>\n",
       "    <tr>\n",
       "      <th>12</th>\n",
       "      <td>WT07</td>\n",
       "      <td>0.001069</td>\n",
       "      <td>3.758755e-02</td>\n",
       "    </tr>\n",
       "    <tr>\n",
       "      <th>13</th>\n",
       "      <td>WT10</td>\n",
       "      <td>0.001046</td>\n",
       "      <td>4.200243e-02</td>\n",
       "    </tr>\n",
       "    <tr>\n",
       "      <th>14</th>\n",
       "      <td>WT11</td>\n",
       "      <td>-0.000166</td>\n",
       "      <td>7.473704e-01</td>\n",
       "    </tr>\n",
       "    <tr>\n",
       "      <th>15</th>\n",
       "      <td>TMAX</td>\n",
       "      <td>-0.009133</td>\n",
       "      <td>1.410227e-70</td>\n",
       "    </tr>\n",
       "  </tbody>\n",
       "</table>\n",
       "</div>"
      ],
      "text/plain": [
       "   Feature  CorrCoeff         pValue\n",
       "0     WT03   0.087747   0.000000e+00\n",
       "1     PRCP   0.080137   0.000000e+00\n",
       "2     WT01   0.068952   0.000000e+00\n",
       "3     AWND   0.050673   0.000000e+00\n",
       "4     SNOW   0.050223   0.000000e+00\n",
       "5     WT02   0.026787   0.000000e+00\n",
       "6     SNWD   0.026357   0.000000e+00\n",
       "7     WT09   0.021574   0.000000e+00\n",
       "8     WT05   0.017079  6.493422e-242\n",
       "9     WT08   0.016897  8.224131e-237\n",
       "10    TMIN   0.006386   2.084835e-35\n",
       "11    TAVG   0.002430   2.294342e-06\n",
       "12    WT07   0.001069   3.758755e-02\n",
       "13    WT10   0.001046   4.200243e-02\n",
       "14    WT11  -0.000166   7.473704e-01\n",
       "15    TMAX  -0.009133   1.410227e-70"
      ]
     },
     "execution_count": 8,
     "metadata": {},
     "output_type": "execute_result"
    }
   ],
   "source": [
    "#Encode to numerical values \n",
    "labelEncoder = LabelEncoder()\n",
    "flight_data[\"CARRIER_NAME\"] = labelEncoder.fit_transform(flight_data[\"CARRIER_NAME\"])\n",
    "flight_data[\"PREVIOUS_AIRPORT\"] = labelEncoder.fit_transform(flight_data[\"PREVIOUS_AIRPORT\"])\n",
    "\n",
    "# get continuous and dichotomous data\n",
    "categorical = [\"DEP_DEL15\",\"AIRLINE_FLIGHTS_MONTH\", \"AVG_MONTHLY_PASS_AIRLINE\", \"FLT_ATTENDANTS_PER_PASS\", \"GROUND_SERV_PER_PASS\", \"PLANE_AGE\", \"DEPARTING_AIRPORT\",\"PREVIOUS_AIRPORT\",\"CARRIER_HISTORICAL\"\n",
    ",\"DEP_AIRPORT_HIST\",\"CARRIER_NAME\"]\n",
    "numeric = [\"PRCP\", \"SNOW\", \"SNWD\", \"TMAX\", \"AWND\",\"TAVG\",\"TMIN\",\"WT01\",\"WT02\",\"WT03\",\"WT05\",\"WT07\",\"WT08\",\"WT09\",\"WT10\",\"WT11\"]\n",
    "target = flight_data[\"DEP_DEL15\"]\n",
    "\n",
    "# pbc of first question\n",
    "pbc = list()\n",
    "for col in numeric:\n",
    "    ans = pointbiserialr(flight_data[col], target)\n",
    "    pbc.append([col, ans[0], ans[1]])\n",
    "    \n",
    "pbc_corr = pd.DataFrame(pbc, columns=[\"Feature\", \"CorrCoeff\", \"pValue\"]).sort_values(by=\"CorrCoeff\", ascending=False).reset_index(drop=True)\n",
    "pbc_corr"
   ]
  },
  {
   "cell_type": "code",
   "execution_count": 9,
   "id": "9fca6c11-804e-4059-b986-19bbf261b9a6",
   "metadata": {},
   "outputs": [
    {
     "data": {
      "image/png": "[encoded data removed]",
      "text/plain": [
       "<Figure size 504x360 with 2 Axes>"
      ]
     },
     "metadata": {
      "needs_background": "light"
     },
     "output_type": "display_data"
    }
   ],
   "source": [
    "plt.figure(figsize=(7, 5))\n",
    "pbc_corr = pbc_corr.set_index(\"Feature\")\n",
    "heatmap = sns.heatmap(pbc_corr[[\"CorrCoeff\"]].sort_values(by=\"CorrCoeff\", ascending=False), vmin=-1, vmax=1, annot=True, cmap=\"BrBG\")\n",
    "heatmap.set_title(\"PBC with ArrDel15\", fontdict={\"fontsize\":18}, pad=16);\n"
   ]
  },
  {
   "cell_type": "markdown",
   "id": "e13b0f71-a2f0-44a6-99d6-833c182187a4",
   "metadata": {},
   "source": [
    "## Spearman Coefficient with categorical data\n",
    "\n",
    "Weather is not the only factor that causes delays. We can see here that there is a strong correlation between Carrier Historical delays and Departing Airport Historical delays and the likelihood of a departure delay."
   ]
  },
  {
   "cell_type": "code",
   "execution_count": 10,
   "id": "149bcff5-2ae3-44cb-a108-a7de4558beaa",
   "metadata": {},
   "outputs": [
    {
     "data": {
      "image/png": "[encoded data removed]",
      "text/plain": [
       "<Figure size 504x360 with 2 Axes>"
      ]
     },
     "metadata": {
      "needs_background": "light"
     },
     "output_type": "display_data"
    }
   ],
   "source": [
    "plt.figure(figsize=(7, 5))\n",
    "heatmap = sns.heatmap(flight_data[categorical].corr(method=\"spearman\")[[\"DEP_DEL15\"]].sort_values(by=\"DEP_DEL15\", ascending=False), vmin=-1, vmax=1, annot=True, cmap=\"BrBG\")\n",
    "heatmap.set_title(\"Spearman Correlations with DEP_DEL15\", fontdict={\"fontsize\":18}, pad=16)\n",
    "#plt.savefig(\"Img/05_03_Spearman_ArrDel15.png\")\n",
    "del heatmap"
   ]
  },
  {
   "cell_type": "markdown",
   "id": "4c4596ed-0510-465a-9314-ef088e57cc98",
   "metadata": {
    "tags": []
   },
   "source": [
    "## Modify Data to Prepare for Modeling\n",
    "\n",
    "Encode non-numerical values ot numerical. Check for and remove any null values."
   ]
  },
  {
   "cell_type": "code",
   "execution_count": 11,
   "id": "4427b1e3-0cb3-45f9-96e5-03a55ec1916b",
   "metadata": {},
   "outputs": [
    {
     "name": "stdout",
     "output_type": "stream",
     "text": [
      "Number of NaN values present: 3\n"
     ]
    }
   ],
   "source": [
    "#Encode to numerical values \n",
    "labelEncoder = LabelEncoder()\n",
    "flight_data[\"CARRIER_NAME\"] = labelEncoder.fit_transform(flight_data[\"CARRIER_NAME\"])\n",
    "flight_data[\"PREVIOUS_AIRPORT\"] = labelEncoder.fit_transform(flight_data[\"PREVIOUS_AIRPORT\"])\n",
    "flight_data[\"DEPARTING_AIRPORT\"] = labelEncoder.fit_transform(flight_data[\"DEPARTING_AIRPORT\"])\n",
    "flight_data[\"DEP_TIME_BLK\"] = labelEncoder.fit_transform(flight_data[\"DEP_TIME_BLK\"])\n",
    "\n",
    "flight_data = flight_data.apply(pd.to_numeric)\n",
    "\n",
    "# applying the method\n",
    "nan_in_df = flight_data.isnull().sum().sum()\n",
    " \n",
    "# printing the number of values present in\n",
    "# the whole dataframe\n",
    "print('Number of NaN values present: ' + str(nan_in_df))\n",
    "\n",
    "flight_data.dropna(subset=['DEP_AIRPORT_HIST','DAY_HISTORICAL','DEP_BLOCK_HIST'], inplace=True)\n"
   ]
  },
  {
   "cell_type": "markdown",
   "id": "2e3eb520-b06e-4260-9d79-b2813011b10b",
   "metadata": {},
   "source": [
    "## Feature Selection\n",
    "\n",
    "Select feature list and standardize data. Run and display feature importance ranking."
   ]
  },
  {
   "cell_type": "code",
   "execution_count": 14,
   "id": "19a53408-68a7-433f-a71c-e40325c25a08",
   "metadata": {
    "tags": []
   },
   "outputs": [
    {
     "data": {
      "text/plain": [
       "array([2.42167193e-02, 1.10477198e-02, 9.67082427e-03, 1.09765307e-02,\n",
       "       1.56041574e-01, 3.07637345e-02, 1.38776071e-01, 5.46399537e-02,\n",
       "       1.21475222e-01, 1.09112724e-01, 2.95528989e-02, 3.12925193e-03,\n",
       "       2.53120747e-03, 6.95243735e-02, 7.61450311e-02, 5.87987224e-02,\n",
       "       6.84480323e-02, 7.47231452e-03, 3.11856120e-03, 5.76318730e-03,\n",
       "       3.50259583e-04, 6.90526359e-05, 8.11476945e-03, 2.44797473e-04,\n",
       "       1.47745592e-05, 1.69152898e-06])"
      ]
     },
     "execution_count": 14,
     "metadata": {},
     "output_type": "execute_result"
    }
   ],
   "source": [
    "#Select all X data\n",
    "X = flight_data[[\"AIRLINE_FLIGHTS_MONTH\", \"AVG_MONTHLY_PASS_AIRLINE\", \"FLT_ATTENDANTS_PER_PASS\", \"GROUND_SERV_PER_PASS\", \"PLANE_AGE\",\"CARRIER_HISTORICAL\"\n",
    ",\"DEP_AIRPORT_HIST\",\"DAY_HISTORICAL\",\"DEP_BLOCK_HIST\",\"CONCURRENT_FLIGHTS\",\"PRCP\", \"SNOW\", \"SNWD\", \"TMAX\", \"AWND\",\"TAVG\",\"TMIN\",\"WT01\",\"WT02\",\"WT03\",\"WT05\",\"WT07\",\"WT08\",\"WT09\",\"WT10\",\"WT11\"]]\n",
    "\n",
    "#Standardize weather data\n",
    "XNormed = (X - X.mean())/(X.std())\n",
    "\n",
    "#Set Y data to DEP_DEL15\n",
    "y = np.asarray(flight_data[\"DEP_DEL15\"])\n",
    "\n",
    "#Run model\n",
    "#model = RandomForestClassifier(n_estimators=100,\n",
    "                       criterion=\"entropy\", random_state=42, n_jobs=-1)\n",
    "#model.fit(XNormed, y)\n",
    "\n",
    "#Save model to joblib\n",
    "#joblib.dump(model, \"data/feature_importance_model.joblib\")\n",
    "\n",
    "#Run model from joblib\n",
    "model = joblib.load(\"./Data/feature_importance_model.joblib\")\n",
    "\n",
    "importances = model.feature_importances_\n",
    "importances"
   ]
  },
  {
   "cell_type": "code",
   "execution_count": 15,
   "id": "96dece73-6804-4c98-b6c3-d07cf950f50b",
   "metadata": {},
   "outputs": [
    {
     "data": {
      "image/png": "[encoded data removed]",
      "text/plain": [
       "<Figure size 640x480 with 1 Axes>"
      ]
     },
     "metadata": {
      "needs_background": "light"
     },
     "output_type": "display_data"
    }
   ],
   "source": [
    "importances = pd.DataFrame({\n",
    "    \"Feature\": list(XNormed.columns),\n",
    "    \"Importance\": model.feature_importances_\n",
    "})\n",
    "importances = importances.sort_values(by=\"Importance\", ascending=False)\n",
    "importances = importances.set_index(\"Feature\")\n",
    "importances\n",
    "plt.figure(figsize=(8, 6), dpi=80)\n",
    "plt.barh(importances.index, importances.Importance)\n",
    "plt.title(\"Feature Importance Ranking obtained from Random Forest Classifier\", fontsize=12)\n",
    "plt.xlabel(\"Importances\")\n",
    "plt.ylabel(\"Features\")\n",
    "del importances\n",
    "del model\n",
    "#del X\n",
    "#del y"
   ]
  },
  {
   "cell_type": "markdown",
   "id": "6b45daeb-980f-408c-9fbc-b8e09e820ff5",
   "metadata": {},
   "source": [
    "## Logistic Regression\n",
    "\n",
    "Run Logistic Regression model. Results are not very strong - recall is only 0.03 for delayed flights meaning that we are missing most of the delays."
   ]
  },
  {
   "cell_type": "code",
   "execution_count": 20,
   "id": "9278070d-ec2d-4bed-932c-aa9aed0c2b73",
   "metadata": {},
   "outputs": [
    {
     "name": "stdout",
     "output_type": "stream",
     "text": [
      "[[2441526   11860]\n",
      " [ 556614   15221]]\n",
      "              precision    recall  f1-score   support\n",
      "\n",
      "           0       0.81      1.00      0.90   2453386\n",
      "           1       0.56      0.03      0.05    571835\n",
      "\n",
      "    accuracy                           0.81   3025221\n",
      "   macro avg       0.69      0.51      0.47   3025221\n",
      "weighted avg       0.77      0.81      0.74   3025221\n",
      "\n"
     ]
    },
    {
     "name": "stderr",
     "output_type": "stream",
     "text": [
      "/opt/anaconda3/lib/python3.9/site-packages/sklearn/utils/deprecation.py:87: FutureWarning: Function plot_confusion_matrix is deprecated; Function `plot_confusion_matrix` is deprecated in 1.0 and will be removed in 1.2. Use one of the class methods: ConfusionMatrixDisplay.from_predictions or ConfusionMatrixDisplay.from_estimator.\n",
      "  warnings.warn(msg, category=FutureWarning)\n"
     ]
    },
    {
     "name": "stdout",
     "output_type": "stream",
     "text": [
      "<sklearn.metrics._plot.confusion_matrix.ConfusionMatrixDisplay object at 0x7f98c80c7d30>\n"
     ]
    },
    {
     "data": {
      "image/png": "[encoded data removed]",
      "text/plain": [
       "<Figure size 432x288 with 2 Axes>"
      ]
     },
     "metadata": {
      "needs_background": "light"
     },
     "output_type": "display_data"
    }
   ],
   "source": [
    "#model = LogisticRegression(solver='lbfgs', max_iter = 500)\n",
    "#model.fit(features_train, labels_train)\n",
    "\n",
    "#joblib.dump(model, \"data/Classifiers/LogisticRegression.joblib\")\n",
    "model = joblib.load(\"data/Classifiers/LogisticRegression.joblib\")\n",
    "\n",
    "model_pred = model.predict(features_test)\n",
    "print(confusion_matrix(labels_test, model_pred))\n",
    "print(classification_report(labels_test, model_pred))\n",
    "conf_mat_plot = plot_confusion_matrix(model, features_test, labels_test)\n",
    "plt.title(\"Logistic Regression\")\n",
    "print(conf_mat_plot)"
   ]
  },
  {
   "cell_type": "markdown",
   "id": "46462337-96f1-40f7-b5b8-f646735a1a75",
   "metadata": {},
   "source": [
    "## Decision Tree Classifer\n",
    "\n",
    "Running Decision Tree Classifier improves recall for delays but has overall lower accuracy than Logistic Regression"
   ]
  },
  {
   "cell_type": "code",
   "execution_count": 23,
   "id": "15ac3445-9dc3-431a-90c0-e280ab649324",
   "metadata": {},
   "outputs": [
    {
     "name": "stdout",
     "output_type": "stream",
     "text": [
      "              precision    recall  f1-score   support\n",
      "\n",
      "           0       0.84      0.82      0.83   2453386\n",
      "           1       0.29      0.31      0.30    571835\n",
      "\n",
      "    accuracy                           0.72   3025221\n",
      "   macro avg       0.56      0.56      0.56   3025221\n",
      "weighted avg       0.73      0.72      0.73   3025221\n",
      "\n"
     ]
    },
    {
     "name": "stderr",
     "output_type": "stream",
     "text": [
      "/opt/anaconda3/lib/python3.9/site-packages/sklearn/utils/deprecation.py:87: FutureWarning: Function plot_confusion_matrix is deprecated; Function `plot_confusion_matrix` is deprecated in 1.0 and will be removed in 1.2. Use one of the class methods: ConfusionMatrixDisplay.from_predictions or ConfusionMatrixDisplay.from_estimator.\n",
      "  warnings.warn(msg, category=FutureWarning)\n"
     ]
    },
    {
     "name": "stdout",
     "output_type": "stream",
     "text": [
      "<sklearn.metrics._plot.confusion_matrix.ConfusionMatrixDisplay object at 0x7f990ffd46a0>\n"
     ]
    },
    {
     "data": {
      "image/png": "[encoded data removed]",
      "text/plain": [
       "<Figure size 432x288 with 2 Axes>"
      ]
     },
     "metadata": {
      "needs_background": "light"
     },
     "output_type": "display_data"
    }
   ],
   "source": [
    "#model = DecisionTreeClassifier()\n",
    "#model.fit(features_train, labels_train)\n",
    "#joblib.dump(model, \"data/Classifiers/DecisionTreeClassifier.joblib\")\n",
    "model = joblib.load(\"data/Classifiers/DecisionTreeClassifier.joblib\")\n",
    "model_pred = model.predict(features_test)\n",
    "# print(confusion_matrix(labels_test, model_pred))\n",
    "print(classification_report(labels_test, model_pred))\n",
    "conf_mat_plot = plot_confusion_matrix(model, features_test, labels_test)\n",
    "plt.title(\"Decision Tree Classifier\")\n",
    "print(conf_mat_plot)"
   ]
  },
  {
   "cell_type": "markdown",
   "id": "7dc6321b-5b3c-4143-b696-b35373524e2b",
   "metadata": {},
   "source": [
    "## Gradient Boosting\n",
    "\n",
    "Once again with gradient boosting we see a better accuracy with low recall score for delays."
   ]
  },
  {
   "cell_type": "code",
   "execution_count": 24,
   "id": "f33fdabe-bb28-432f-9f52-4f0202f86535",
   "metadata": {},
   "outputs": [
    {
     "name": "stdout",
     "output_type": "stream",
     "text": [
      "              precision    recall  f1-score   support\n",
      "\n",
      "           0       0.82      0.99      0.90   2453386\n",
      "           1       0.60      0.05      0.08    571835\n",
      "\n",
      "    accuracy                           0.81   3025221\n",
      "   macro avg       0.71      0.52      0.49   3025221\n",
      "weighted avg       0.78      0.81      0.74   3025221\n",
      "\n"
     ]
    },
    {
     "name": "stderr",
     "output_type": "stream",
     "text": [
      "/opt/anaconda3/lib/python3.9/site-packages/sklearn/utils/deprecation.py:87: FutureWarning: Function plot_confusion_matrix is deprecated; Function `plot_confusion_matrix` is deprecated in 1.0 and will be removed in 1.2. Use one of the class methods: ConfusionMatrixDisplay.from_predictions or ConfusionMatrixDisplay.from_estimator.\n",
      "  warnings.warn(msg, category=FutureWarning)\n"
     ]
    },
    {
     "name": "stdout",
     "output_type": "stream",
     "text": [
      "<sklearn.metrics._plot.confusion_matrix.ConfusionMatrixDisplay object at 0x7f98d0aafa00>\n"
     ]
    },
    {
     "data": {
      "image/png": "[encoded data removed]",
      "text/plain": [
       "<Figure size 432x288 with 2 Axes>"
      ]
     },
     "metadata": {
      "needs_background": "light"
     },
     "output_type": "display_data"
    }
   ],
   "source": [
    "#model = GradientBoostingClassifier()\n",
    "#model.fit(features_train, labels_train)\n",
    "#joblib.dump(model, \"data/Classifiers/GradientBoostingClassifier.joblib\")\n",
    "\n",
    "model = joblib.load(\"data/Classifiers/GradientBoostingClassifier.joblib\")\n",
    "model_pred = model.predict(features_test)\n",
    "# print(confusion_matrix(labels_test, model_pred))\n",
    "print(classification_report(labels_test, model_pred))\n",
    "conf_mat_plot = plot_confusion_matrix(model, features_test, labels_test)\n",
    "plt.title(\"Gradient Boosting Classifier (XGBoost)\")\n",
    "print(conf_mat_plot)\n"
   ]
  },
  {
   "cell_type": "markdown",
   "id": "e85535dc-5950-41b1-858d-1e5bc1ae59dc",
   "metadata": {},
   "source": [
    "## Random Forest\n",
    "\n",
    "Random Forest falls in the middle of the others with improved recall for delays and accuracy as good as logistic regression and gradient boosting."
   ]
  },
  {
   "cell_type": "code",
   "execution_count": 25,
   "id": "e47c5a9a-2602-4744-94a6-a4fe2e23dbee",
   "metadata": {},
   "outputs": [
    {
     "name": "stdout",
     "output_type": "stream",
     "text": [
      "[[2371032   82354]\n",
      " [ 484908   86927]]\n",
      "              precision    recall  f1-score   support\n",
      "\n",
      "           0       0.83      0.97      0.89   2453386\n",
      "           1       0.51      0.15      0.23    571835\n",
      "\n",
      "    accuracy                           0.81   3025221\n",
      "   macro avg       0.67      0.56      0.56   3025221\n",
      "weighted avg       0.77      0.81      0.77   3025221\n",
      "\n"
     ]
    },
    {
     "name": "stderr",
     "output_type": "stream",
     "text": [
      "/opt/anaconda3/lib/python3.9/site-packages/sklearn/utils/deprecation.py:87: FutureWarning: Function plot_confusion_matrix is deprecated; Function `plot_confusion_matrix` is deprecated in 1.0 and will be removed in 1.2. Use one of the class methods: ConfusionMatrixDisplay.from_predictions or ConfusionMatrixDisplay.from_estimator.\n",
      "  warnings.warn(msg, category=FutureWarning)\n"
     ]
    },
    {
     "name": "stdout",
     "output_type": "stream",
     "text": [
      "<sklearn.metrics._plot.confusion_matrix.ConfusionMatrixDisplay object at 0x7f992df9c1f0>\n"
     ]
    },
    {
     "data": {
      "image/png": "[encoded data removed]",
      "text/plain": [
       "<Figure size 432x288 with 2 Axes>"
      ]
     },
     "metadata": {
      "needs_background": "light"
     },
     "output_type": "display_data"
    }
   ],
   "source": [
    "model = RandomForestClassifier(n_jobs=-1)\n",
    "model.fit(features_train, labels_train)\n",
    "joblib.dump(model, \"data/Classifiers/RandomForestClassifier.joblib\")\n",
    "#model = joblib.load(\"data/Classifiers/RandomForestClassifier.joblib\")\n",
    "\n",
    "model_pred = model.predict(features_test)\n",
    "print(confusion_matrix(labels_test, model_pred))\n",
    "print(classification_report(labels_test, model_pred))\n",
    "conf_mat_plot = plot_confusion_matrix(model, features_test, labels_test)\n",
    "plt.title(\"Random Forest Classifier\")\n",
    "print(conf_mat_plot)\n",
    "\n",
    "del model\n",
    "del model_pred"
   ]
  },
  {
   "cell_type": "markdown",
   "id": "9541c0a9-803d-4320-960a-acc22a8c32fc",
   "metadata": {},
   "source": [
    "## Extra Trees\n",
    "\n",
    "Extra trees has improved recall for delays and higher accuracy overall."
   ]
  },
  {
   "cell_type": "code",
   "execution_count": 33,
   "id": "80a1746b-fb4f-48eb-b71e-7943b0a2ae65",
   "metadata": {
    "tags": []
   },
   "outputs": [
    {
     "name": "stdout",
     "output_type": "stream",
     "text": [
      "[[2325026  128360]\n",
      " [ 467508  104327]]\n",
      "              precision    recall  f1-score   support\n",
      "\n",
      "           0       0.83      0.95      0.89   2453386\n",
      "           1       0.45      0.18      0.26    571835\n",
      "\n",
      "    accuracy                           0.80   3025221\n",
      "   macro avg       0.64      0.57      0.57   3025221\n",
      "weighted avg       0.76      0.80      0.77   3025221\n",
      "\n"
     ]
    },
    {
     "name": "stderr",
     "output_type": "stream",
     "text": [
      "/opt/anaconda3/lib/python3.9/site-packages/sklearn/utils/deprecation.py:87: FutureWarning: Function plot_confusion_matrix is deprecated; Function `plot_confusion_matrix` is deprecated in 1.0 and will be removed in 1.2. Use one of the class methods: ConfusionMatrixDisplay.from_predictions or ConfusionMatrixDisplay.from_estimator.\n",
      "  warnings.warn(msg, category=FutureWarning)\n"
     ]
    },
    {
     "name": "stdout",
     "output_type": "stream",
     "text": [
      "<sklearn.metrics._plot.confusion_matrix.ConfusionMatrixDisplay object at 0x7f992dddc250>\n"
     ]
    },
    {
     "data": {
      "image/png": "[encoded data removed]",
      "text/plain": [
       "<Figure size 432x288 with 2 Axes>"
      ]
     },
     "metadata": {
      "needs_background": "light"
     },
     "output_type": "display_data"
    }
   ],
   "source": [
    "#model = ExtraTreesClassifier(n_jobs=-1)\n",
    "#model.fit(features_train, labels_train)\n",
    "#joblib.dump(model, \"data/Classifiers/ExtraTreesClassifier.joblib\")\n",
    "model = joblib.load(\"data/Classifiers/ExtraTreesClassifier.joblib\")\n",
    "\n",
    "model_pred = model.predict(features_test)\n",
    "print(confusion_matrix(labels_test, model_pred))\n",
    "print(classification_report(labels_test, model_pred))\n",
    "conf_mat_plot = plot_confusion_matrix(model, features_test, labels_test)\n",
    "plt.title(\"Extra Trees Classifier\")\n",
    "print(conf_mat_plot)\n",
    "#plt.savefig(\"Img/05_09_ETC_Confusion_Matrix\")\n"
   ]
  },
  {
   "cell_type": "markdown",
   "id": "32b6fc63-ac60-4fca-bd0b-c6d6a041faa6",
   "metadata": {},
   "source": [
    "## Result\n",
    "\n",
    "Running our models based only on the weather variables did not produce very good prediction results. \n",
    "\n",
    "|     Classification Model     |  |      |        |      |  Performance Metric        |      |          |   |\n",
    "|:----------------------------:|:------------------:|:----:|:------:|:----:|:--------:|:----:|:--------:|:-:|\n",
    "|                              |      Precision     |      | Recall |      | F1 Score |      | Accuracy |   |\n",
    "|                              |         0.0        |  1.0 |   0.0  |  1.0 |    0.0   |  1.0 |          |   |\n",
    "|      Logistic Regression     | 0.81               | 0.45 | 1.00   | 0.00 | 0.90     | 0.01 | 0.81     |   |\n",
    "|   Decision Tree Classifier   | 0.82               | 0.49 | 0.99   | 0.06 | 0.89     | 0.10 | 0.81     |   |\n",
    "|    Extra Trees Classifier    | 0.82               | 0.49 | 0.99   | 0.06 | 0.189    | 0.10 | 0.81     |   |\n",
    "| Gradient Boosting Classifier | 0.81               | 0.64 | 1.00   | 0.00 | 0.90     | 0.01 | 0.81     |   |\n",
    "|   Random Forest Classifier   | 0.83               | 0.44 | 0.98   | 0.06 | 0.89     | 0.11 | 0.81     |   |"
   ]
  },
  {
   "cell_type": "code",
   "execution_count": 34,
   "id": "e8adef7b-daa4-4730-8564-b8fe1db966c5",
   "metadata": {},
   "outputs": [
    {
     "name": "stderr",
     "output_type": "stream",
     "text": [
      "/var/folders/kr/95x94ckx3m757jtk_tm0rz780000gn/T/ipykernel_5908/902646317.py:8: FutureWarning: The frame.append method is deprecated and will be removed from pandas in a future version. Use pandas.concat instead.\n",
      "  perf_df = perf_df.append({\"classifiers\": \"ExtraTreesClassifier\",\n",
      "/var/folders/kr/95x94ckx3m757jtk_tm0rz780000gn/T/ipykernel_5908/902646317.py:23: FutureWarning: The frame.append method is deprecated and will be removed from pandas in a future version. Use pandas.concat instead.\n",
      "  perf_df = perf_df.append({\"classifiers\": clf,\n",
      "/var/folders/kr/95x94ckx3m757jtk_tm0rz780000gn/T/ipykernel_5908/902646317.py:23: FutureWarning: The frame.append method is deprecated and will be removed from pandas in a future version. Use pandas.concat instead.\n",
      "  perf_df = perf_df.append({\"classifiers\": clf,\n",
      "/var/folders/kr/95x94ckx3m757jtk_tm0rz780000gn/T/ipykernel_5908/902646317.py:23: FutureWarning: The frame.append method is deprecated and will be removed from pandas in a future version. Use pandas.concat instead.\n",
      "  perf_df = perf_df.append({\"classifiers\": clf,\n",
      "/var/folders/kr/95x94ckx3m757jtk_tm0rz780000gn/T/ipykernel_5908/902646317.py:23: FutureWarning: The frame.append method is deprecated and will be removed from pandas in a future version. Use pandas.concat instead.\n",
      "  perf_df = perf_df.append({\"classifiers\": clf,\n"
     ]
    }
   ],
   "source": [
    "# Setup\n",
    "perf_df = pd.DataFrame(columns=[\"classifiers\", \"fpr\", \"tpr\", \"auc\"])\n",
    "\n",
    "# Handling Extra Trees Classifier separately due to memory constraints\n",
    "fpr, tpr, _ = roc_curve(labels_test,  model_pred)\n",
    "auc = roc_auc_score(labels_test, model_pred)\n",
    "# Record the results\n",
    "perf_df = perf_df.append({\"classifiers\": \"ExtraTreesClassifier\",\n",
    "                                        \"fpr\": fpr, \n",
    "                                        \"tpr\": tpr, \n",
    "                                        \"auc\": auc}, ignore_index=True)\n",
    "del model\n",
    "del model_pred\n",
    "\n",
    "classifiers = [\"LogisticRegression\", \"DecisionTreeClassifier\", \"GradientBoostingClassifier\", \"RandomForestClassifier\"]\n",
    "for clf in classifiers:\n",
    "    # Load the trained classifiers\n",
    "    model = joblib.load(f\"data/Classifiers/{clf}.joblib\")\n",
    "    model_pred = model.predict(features_test)\n",
    "    fpr, tpr, _ = roc_curve(labels_test,  model_pred)\n",
    "    auc = roc_auc_score(labels_test, model_pred)\n",
    "    # Record the results\n",
    "    perf_df = perf_df.append({\"classifiers\": clf,\n",
    "                                        \"fpr\": fpr, \n",
    "                                        \"tpr\": tpr, \n",
    "                                        \"auc\": auc}, ignore_index=True)\n",
    "    del model\n",
    "    del model_pred\n",
    "\n",
    "# Set name of the classifiers as index labels\n",
    "perf_df.set_index(\"classifiers\", inplace=True)"
   ]
  },
  {
   "cell_type": "code",
   "execution_count": 37,
   "id": "54a92c15-1c3e-4254-bacf-110e88d51630",
   "metadata": {},
   "outputs": [
    {
     "data": {
      "image/png": "[encoded data removed]",
      "text/plain": [
       "<Figure size 640x480 with 1 Axes>"
      ]
     },
     "metadata": {
      "needs_background": "light"
     },
     "output_type": "display_data"
    }
   ],
   "source": [
    "fig = plt.figure(figsize=(8,6), dpi=80)\n",
    "for clf_name in perf_df.index:\n",
    "    plt.plot(perf_df.loc[clf_name][\"fpr\"], \n",
    "             perf_df.loc[clf_name][\"tpr\"], \n",
    "             label=\"{}, AUC={:.3f}\".format(clf_name, perf_df.loc[clf_name][\"auc\"]))\n",
    "    \n",
    "plt.plot([0,1], [0,1], color='orange', linestyle='--')\n",
    "\n",
    "plt.xticks(np.arange(0.0, 1.1, step=0.1))\n",
    "plt.xlabel(\"False Positive Rate\", fontsize=15)\n",
    "\n",
    "plt.yticks(np.arange(0.0, 1.1, step=0.1))\n",
    "plt.ylabel(\"True Positive Rate\", fontsize=15)\n",
    "\n",
    "plt.title(\"ROC AUC Analysis\", fontweight=\"bold\", fontsize=15)\n",
    "plt.legend(prop={\"size\":13}, loc=\"lower right\")\n",
    "\n",
    "plt.show()\n",
    "fig.savefig(\"data/Img/05_10_Classifiers_ROC_AUC.png\")"
   ]
  },
  {
   "cell_type": "markdown",
   "id": "dc36b915-b022-47ad-8e33-eb0f5c865ad0",
   "metadata": {},
   "source": [
    "## Explanation\n",
    "\n",
    "The Receiver Operator Characteristic (ROC) curve is an evaluation metric for binary classification problems. It is a probability curve that plots the TPR against FPR at various threshold values and essentially separates the ‘signal’ from the ‘noise’. The Area Under the Curve (AUC) is the measure of the ability of a classifier to distinguish between classes and is used as a summary of the ROC curve.\n",
    "\n",
    "** Based on the AUC Extra Trees Classifier and Decision Tree Classifier performed the best **\n",
    "\n",
    "However, our AUC is just barely over 0.5 meaning the overall accuracy of our models is not very good. How can it be improved?\n",
    "\n",
    "1. Handling Imbalances\n",
    "2. Restricting the Data - are we able to improve prediction by looking only at certain airports?\n",
    "3. Predicting"
   ]
  },
  {
   "cell_type": "code",
   "execution_count": null,
   "id": "32c2e24a-224f-4c66-bf76-798e7515ff06",
   "metadata": {},
   "outputs": [],
   "source": []
  }
 ],
 "metadata": {
  "colab": {
   "provenance": []
  },
  "kernelspec": {
   "display_name": "Python 3 (ipykernel)",
   "language": "python",
   "name": "python3"
  },
  "language_info": {
   "codemirror_mode": {
    "name": "ipython",
    "version": 3
   },
   "file_extension": ".py",
   "mimetype": "text/x-python",
   "name": "python",
   "nbconvert_exporter": "python",
   "pygments_lexer": "ipython3",
   "version": "3.9.12"
  }
 },
 "nbformat": 4,
 "nbformat_minor": 5
}
